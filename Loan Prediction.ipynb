{
 "cells": [
  {
   "cell_type": "markdown",
   "id": "11217178-ec46-4006-9acb-e7d8e78731b9",
   "metadata": {},
   "source": [
    "# Loan Prediction with Various Machine Learning Models"
   ]
  },
  {
   "cell_type": "code",
   "execution_count": 3,
   "id": "02c5f6ca",
   "metadata": {
    "tags": []
   },
   "outputs": [],
   "source": [
    "%matplotlib inline\n",
    "import numpy as np\n",
    "import pandas as pd\n",
    "from scipy import stats\n",
    "import matplotlib.pyplot as plt\n",
    "import seaborn as sns\n",
    "from sklearn.model_selection import train_test_split\n",
    "\n",
    "# Importing Regression Modules\n",
    "from sklearn.linear_model import LinearRegression\n",
    "from sklearn.tree import DecisionTreeRegressor\n",
    "from sklearn.ensemble import RandomForestRegressor, GradientBoostingRegressor\n",
    "from sklearn.svm import SVR\n",
    "from sklearn.neural_network import MLPRegressor\n",
    "from sklearn.neighbors import KNeighborsRegressor\n",
    "from sklearn.linear_model import ElasticNet\n",
    "from sklearn.metrics import mean_squared_error\n",
    "from sklearn.metrics import r2_score"
   ]
  },
  {
   "cell_type": "markdown",
   "id": "15c20af4-8579-42e8-b591-db3886cda102",
   "metadata": {},
   "source": [
    "## Read Data"
   ]
  },
  {
   "cell_type": "code",
   "execution_count": 4,
   "id": "82232c0a",
   "metadata": {
    "tags": []
   },
   "outputs": [
    {
     "name": "stderr",
     "output_type": "stream",
     "text": [
      "/var/folders/04/yllkntj5677_mvn3c6nn113r0000gn/T/ipykernel_78307/352776460.py:1: DtypeWarning: Columns (15) have mixed types. Specify dtype option on import or set low_memory=False.\n",
      "  df = pd.read_csv('Data for Cleaning _ Modeling.csv')\n"
     ]
    },
    {
     "data": {
      "text/html": [
       "<div>\n",
       "<style scoped>\n",
       "    .dataframe tbody tr th:only-of-type {\n",
       "        vertical-align: middle;\n",
       "    }\n",
       "\n",
       "    .dataframe tbody tr th {\n",
       "        vertical-align: top;\n",
       "    }\n",
       "\n",
       "    .dataframe thead th {\n",
       "        text-align: right;\n",
       "    }\n",
       "</style>\n",
       "<table border=\"1\" class=\"dataframe\">\n",
       "  <thead>\n",
       "    <tr style=\"text-align: right;\">\n",
       "      <th></th>\n",
       "      <th>X1</th>\n",
       "      <th>X2</th>\n",
       "      <th>X3</th>\n",
       "      <th>X4</th>\n",
       "      <th>X5</th>\n",
       "      <th>X6</th>\n",
       "      <th>X7</th>\n",
       "      <th>X8</th>\n",
       "      <th>X9</th>\n",
       "      <th>X10</th>\n",
       "      <th>...</th>\n",
       "      <th>X23</th>\n",
       "      <th>X24</th>\n",
       "      <th>X25</th>\n",
       "      <th>X26</th>\n",
       "      <th>X27</th>\n",
       "      <th>X28</th>\n",
       "      <th>X29</th>\n",
       "      <th>X30</th>\n",
       "      <th>X31</th>\n",
       "      <th>X32</th>\n",
       "    </tr>\n",
       "  </thead>\n",
       "  <tbody>\n",
       "    <tr>\n",
       "      <th>0</th>\n",
       "      <td>11.89%</td>\n",
       "      <td>54734.0</td>\n",
       "      <td>80364.0</td>\n",
       "      <td>$25,000</td>\n",
       "      <td>$25,000</td>\n",
       "      <td>$19,080</td>\n",
       "      <td>36 months</td>\n",
       "      <td>B</td>\n",
       "      <td>B4</td>\n",
       "      <td>NaN</td>\n",
       "      <td>...</td>\n",
       "      <td>Feb-94</td>\n",
       "      <td>0.0</td>\n",
       "      <td>NaN</td>\n",
       "      <td>NaN</td>\n",
       "      <td>10.0</td>\n",
       "      <td>0.0</td>\n",
       "      <td>28854.0</td>\n",
       "      <td>52.10%</td>\n",
       "      <td>42.0</td>\n",
       "      <td>f</td>\n",
       "    </tr>\n",
       "    <tr>\n",
       "      <th>1</th>\n",
       "      <td>10.71%</td>\n",
       "      <td>55742.0</td>\n",
       "      <td>114426.0</td>\n",
       "      <td>$7,000</td>\n",
       "      <td>$7,000</td>\n",
       "      <td>$673</td>\n",
       "      <td>36 months</td>\n",
       "      <td>B</td>\n",
       "      <td>B5</td>\n",
       "      <td>CNN</td>\n",
       "      <td>...</td>\n",
       "      <td>Oct-00</td>\n",
       "      <td>0.0</td>\n",
       "      <td>NaN</td>\n",
       "      <td>NaN</td>\n",
       "      <td>7.0</td>\n",
       "      <td>0.0</td>\n",
       "      <td>33623.0</td>\n",
       "      <td>76.70%</td>\n",
       "      <td>7.0</td>\n",
       "      <td>f</td>\n",
       "    </tr>\n",
       "    <tr>\n",
       "      <th>2</th>\n",
       "      <td>16.99%</td>\n",
       "      <td>57167.0</td>\n",
       "      <td>137225.0</td>\n",
       "      <td>$25,000</td>\n",
       "      <td>$25,000</td>\n",
       "      <td>$24,725</td>\n",
       "      <td>36 months</td>\n",
       "      <td>D</td>\n",
       "      <td>D3</td>\n",
       "      <td>Web Programmer</td>\n",
       "      <td>...</td>\n",
       "      <td>Jun-00</td>\n",
       "      <td>0.0</td>\n",
       "      <td>41.0</td>\n",
       "      <td>NaN</td>\n",
       "      <td>10.0</td>\n",
       "      <td>0.0</td>\n",
       "      <td>19878.0</td>\n",
       "      <td>66.30%</td>\n",
       "      <td>17.0</td>\n",
       "      <td>f</td>\n",
       "    </tr>\n",
       "    <tr>\n",
       "      <th>3</th>\n",
       "      <td>13.11%</td>\n",
       "      <td>57245.0</td>\n",
       "      <td>138150.0</td>\n",
       "      <td>$1,200</td>\n",
       "      <td>$1,200</td>\n",
       "      <td>$1,200</td>\n",
       "      <td>36 months</td>\n",
       "      <td>C</td>\n",
       "      <td>C2</td>\n",
       "      <td>city of beaumont texas</td>\n",
       "      <td>...</td>\n",
       "      <td>Jan-85</td>\n",
       "      <td>0.0</td>\n",
       "      <td>64.0</td>\n",
       "      <td>NaN</td>\n",
       "      <td>5.0</td>\n",
       "      <td>0.0</td>\n",
       "      <td>2584.0</td>\n",
       "      <td>40.40%</td>\n",
       "      <td>31.0</td>\n",
       "      <td>f</td>\n",
       "    </tr>\n",
       "    <tr>\n",
       "      <th>4</th>\n",
       "      <td>13.57%</td>\n",
       "      <td>57416.0</td>\n",
       "      <td>139635.0</td>\n",
       "      <td>$10,800</td>\n",
       "      <td>$10,800</td>\n",
       "      <td>$10,692</td>\n",
       "      <td>36 months</td>\n",
       "      <td>C</td>\n",
       "      <td>C3</td>\n",
       "      <td>State Farm Insurance</td>\n",
       "      <td>...</td>\n",
       "      <td>Dec-96</td>\n",
       "      <td>1.0</td>\n",
       "      <td>58.0</td>\n",
       "      <td>NaN</td>\n",
       "      <td>14.0</td>\n",
       "      <td>0.0</td>\n",
       "      <td>3511.0</td>\n",
       "      <td>25.60%</td>\n",
       "      <td>40.0</td>\n",
       "      <td>f</td>\n",
       "    </tr>\n",
       "  </tbody>\n",
       "</table>\n",
       "<p>5 rows × 32 columns</p>\n",
       "</div>"
      ],
      "text/plain": [
       "       X1       X2        X3       X4       X5       X6          X7 X8  X9  \\\n",
       "0  11.89%  54734.0   80364.0  $25,000  $25,000  $19,080   36 months  B  B4   \n",
       "1  10.71%  55742.0  114426.0   $7,000   $7,000     $673   36 months  B  B5   \n",
       "2  16.99%  57167.0  137225.0  $25,000  $25,000  $24,725   36 months  D  D3   \n",
       "3  13.11%  57245.0  138150.0   $1,200   $1,200   $1,200   36 months  C  C2   \n",
       "4  13.57%  57416.0  139635.0  $10,800  $10,800  $10,692   36 months  C  C3   \n",
       "\n",
       "                      X10  ...     X23  X24   X25 X26   X27  X28      X29  \\\n",
       "0                     NaN  ...  Feb-94  0.0   NaN NaN  10.0  0.0  28854.0   \n",
       "1                     CNN  ...  Oct-00  0.0   NaN NaN   7.0  0.0  33623.0   \n",
       "2          Web Programmer  ...  Jun-00  0.0  41.0 NaN  10.0  0.0  19878.0   \n",
       "3  city of beaumont texas  ...  Jan-85  0.0  64.0 NaN   5.0  0.0   2584.0   \n",
       "4    State Farm Insurance  ...  Dec-96  1.0  58.0 NaN  14.0  0.0   3511.0   \n",
       "\n",
       "      X30   X31 X32  \n",
       "0  52.10%  42.0   f  \n",
       "1  76.70%   7.0   f  \n",
       "2  66.30%  17.0   f  \n",
       "3  40.40%  31.0   f  \n",
       "4  25.60%  40.0   f  \n",
       "\n",
       "[5 rows x 32 columns]"
      ]
     },
     "execution_count": 4,
     "metadata": {},
     "output_type": "execute_result"
    }
   ],
   "source": [
    "df = pd.read_csv('Data for Cleaning _ Modeling.csv')\n",
    "\n",
    "df.head()"
   ]
  },
  {
   "cell_type": "markdown",
   "id": "87504de6-88af-430f-b96c-310b9e0aaf48",
   "metadata": {},
   "source": [
    "## Exploratory Data Analysis"
   ]
  },
  {
   "cell_type": "code",
   "execution_count": 3,
   "id": "a5f547b1",
   "metadata": {
    "tags": []
   },
   "outputs": [
    {
     "name": "stdout",
     "output_type": "stream",
     "text": [
      "<class 'pandas.core.frame.DataFrame'>\n",
      "RangeIndex: 400000 entries, 0 to 399999\n",
      "Data columns (total 32 columns):\n",
      " #   Column  Non-Null Count   Dtype  \n",
      "---  ------  --------------   -----  \n",
      " 0   X1      338990 non-null  object \n",
      " 1   X2      399999 non-null  float64\n",
      " 2   X3      399999 non-null  float64\n",
      " 3   X4      399999 non-null  object \n",
      " 4   X5      399999 non-null  object \n",
      " 5   X6      399999 non-null  object \n",
      " 6   X7      399999 non-null  object \n",
      " 7   X8      338730 non-null  object \n",
      " 8   X9      338730 non-null  object \n",
      " 9   X10     376014 non-null  object \n",
      " 10  X11     382462 non-null  object \n",
      " 11  X12     338639 non-null  object \n",
      " 12  X13     338972 non-null  float64\n",
      " 13  X14     399999 non-null  object \n",
      " 14  X15     399999 non-null  object \n",
      " 15  X16     123560 non-null  object \n",
      " 16  X17     399999 non-null  object \n",
      " 17  X18     399981 non-null  object \n",
      " 18  X19     399999 non-null  object \n",
      " 19  X20     399999 non-null  object \n",
      " 20  X21     399999 non-null  float64\n",
      " 21  X22     399999 non-null  float64\n",
      " 22  X23     399999 non-null  object \n",
      " 23  X24     399999 non-null  float64\n",
      " 24  X25     181198 non-null  float64\n",
      " 25  X26     51155 non-null   float64\n",
      " 26  X27     399999 non-null  float64\n",
      " 27  X28     399999 non-null  float64\n",
      " 28  X29     399999 non-null  float64\n",
      " 29  X30     399733 non-null  object \n",
      " 30  X31     399999 non-null  float64\n",
      " 31  X32     399999 non-null  object \n",
      "dtypes: float64(12), object(20)\n",
      "memory usage: 97.7+ MB\n"
     ]
    }
   ],
   "source": [
    "df.info()"
   ]
  },
  {
   "cell_type": "code",
   "execution_count": 4,
   "id": "2b6a39bc",
   "metadata": {
    "tags": []
   },
   "outputs": [
    {
     "data": {
      "text/plain": [
       "X1      61010\n",
       "X2          1\n",
       "X3          1\n",
       "X4          1\n",
       "X5          1\n",
       "X6          1\n",
       "X7          1\n",
       "X8      61270\n",
       "X9      61270\n",
       "X10     23986\n",
       "X11     17538\n",
       "X12     61361\n",
       "X13     61028\n",
       "X14         1\n",
       "X15         1\n",
       "X16    276440\n",
       "X17         1\n",
       "X18        19\n",
       "X19         1\n",
       "X20         1\n",
       "X21         1\n",
       "X22         1\n",
       "X23         1\n",
       "X24         1\n",
       "X25    218802\n",
       "X26    348845\n",
       "X27         1\n",
       "X28         1\n",
       "X29         1\n",
       "X30       267\n",
       "X31         1\n",
       "X32         1\n",
       "dtype: int64"
      ]
     },
     "execution_count": 4,
     "metadata": {},
     "output_type": "execute_result"
    }
   ],
   "source": [
    "null_counts = df.isnull().sum()\n",
    "null_counts"
   ]
  },
  {
   "cell_type": "markdown",
   "id": "7e0d1d28-6156-424c-8b68-bc6241863dd3",
   "metadata": {},
   "source": [
    "## Data Cleaning"
   ]
  },
  {
   "cell_type": "markdown",
   "id": "451de9b5-171a-4471-9c82-3c30d28cd456",
   "metadata": {},
   "source": [
    "## Columns Dropped"
   ]
  },
  {
   "cell_type": "markdown",
   "id": "b834433d-71b4-4562-b089-c257dc095f35",
   "metadata": {},
   "source": [
    "X10: Employer or job title (self-filled). No substantial insights gained that are not already shown by X11 or X13\n",
    "X16: Reason for loan provided by borrower.  \n",
    "X18: Loan title, as provided by borrower. No substantial insights gained.  \n",
    "X19: First 3 numbers of zip code. Described by X20 (State of borrower).  \n",
    "X25: Number of months since the borrower's last delinquency. A lot of missing values and can be described by data in X22.  \n",
    "X26: Number of months since the last public record. A lot of missing values and cessentially showing same information as X28.  "
   ]
  },
  {
   "cell_type": "code",
   "execution_count": 5,
   "id": "e2c7f645-30c2-4d72-8d68-de14298fbe66",
   "metadata": {
    "tags": []
   },
   "outputs": [],
   "source": [
    "df = df.drop(['X10', 'X17', 'X18', 'X19', 'X25','X26','X16'], axis=1)"
   ]
  },
  {
   "cell_type": "markdown",
   "id": "eec2cdde-8716-4fdb-b1b5-12a97460b84a",
   "metadata": {},
   "source": [
    "## Rows Dropped\n",
    "Rows with missing values in X1 are dropped because X1 is the target variable."
   ]
  },
  {
   "cell_type": "code",
   "execution_count": 6,
   "id": "e4d6a873-c66e-43a2-87d1-e6fba2872383",
   "metadata": {
    "tags": []
   },
   "outputs": [],
   "source": [
    "df = df.dropna(subset=['X1'], axis=0)"
   ]
  },
  {
   "cell_type": "code",
   "execution_count": 7,
   "id": "62b6e68c-2e5d-44ed-ba1d-fd49043acf61",
   "metadata": {
    "tags": []
   },
   "outputs": [],
   "source": [
    "#removing the percent sign and changing it float type\n",
    "df['X1'] = pd.to_numeric(df['X1'].str.rstrip('%'), errors='coerce')\n",
    "\n",
    "df['X1'] = df['X1'].astype(float)"
   ]
  },
  {
   "cell_type": "code",
   "execution_count": 8,
   "id": "c8ba8711-895e-46ac-9b45-7fe3edeb3b7d",
   "metadata": {
    "tags": []
   },
   "outputs": [
    {
     "name": "stdout",
     "output_type": "stream",
     "text": [
      "<class 'pandas.core.frame.DataFrame'>\n",
      "Int64Index: 338990 entries, 0 to 399999\n",
      "Data columns (total 25 columns):\n",
      " #   Column  Non-Null Count   Dtype  \n",
      "---  ------  --------------   -----  \n",
      " 0   X1      338990 non-null  float64\n",
      " 1   X2      338989 non-null  float64\n",
      " 2   X3      338989 non-null  float64\n",
      " 3   X4      338989 non-null  object \n",
      " 4   X5      338989 non-null  object \n",
      " 5   X6      338989 non-null  object \n",
      " 6   X7      338989 non-null  object \n",
      " 7   X8      287123 non-null  object \n",
      " 8   X9      287123 non-null  object \n",
      " 9   X11     324195 non-null  object \n",
      " 10  X12     287030 non-null  object \n",
      " 11  X13     287238 non-null  float64\n",
      " 12  X14     338989 non-null  object \n",
      " 13  X15     338989 non-null  object \n",
      " 14  X20     338989 non-null  object \n",
      " 15  X21     338989 non-null  float64\n",
      " 16  X22     338989 non-null  float64\n",
      " 17  X23     338989 non-null  object \n",
      " 18  X24     338989 non-null  float64\n",
      " 19  X27     338989 non-null  float64\n",
      " 20  X28     338989 non-null  float64\n",
      " 21  X29     338989 non-null  float64\n",
      " 22  X30     338765 non-null  object \n",
      " 23  X31     338989 non-null  float64\n",
      " 24  X32     338989 non-null  object \n",
      "dtypes: float64(11), object(14)\n",
      "memory usage: 67.2+ MB\n"
     ]
    }
   ],
   "source": [
    "df.info()"
   ]
  },
  {
   "cell_type": "code",
   "execution_count": 9,
   "id": "9f107965-22ea-4851-beeb-a42d0776ed97",
   "metadata": {
    "tags": []
   },
   "outputs": [
    {
     "data": {
      "text/plain": [
       "X1         0\n",
       "X2         1\n",
       "X3         1\n",
       "X4         1\n",
       "X5         1\n",
       "X6         1\n",
       "X7         1\n",
       "X8     51867\n",
       "X9     51867\n",
       "X11    14795\n",
       "X12    51960\n",
       "X13    51752\n",
       "X14        1\n",
       "X15        1\n",
       "X20        1\n",
       "X21        1\n",
       "X22        1\n",
       "X23        1\n",
       "X24        1\n",
       "X27        1\n",
       "X28        1\n",
       "X29        1\n",
       "X30      225\n",
       "X31        1\n",
       "X32        1\n",
       "dtype: int64"
      ]
     },
     "execution_count": 9,
     "metadata": {},
     "output_type": "execute_result"
    }
   ],
   "source": [
    "null_counts = df.isnull().sum()\n",
    "null_counts"
   ]
  },
  {
   "cell_type": "markdown",
   "id": "e6776f1e-b230-4579-aa02-174f80e76652",
   "metadata": {},
   "source": [
    "## Handling Missing Values"
   ]
  },
  {
   "cell_type": "markdown",
   "id": "4a177031-63c4-4dd0-a727-5520242ee176",
   "metadata": {},
   "source": [
    "### X13: Annual income of borrower."
   ]
  },
  {
   "cell_type": "code",
   "execution_count": 10,
   "id": "2bb20a78-cfa8-41a1-921b-3dd4dd5d5f66",
   "metadata": {
    "tags": []
   },
   "outputs": [
    {
     "data": {
      "image/png": "[encoded data removed]",
      "text/plain": [
       "<Figure size 640x480 with 1 Axes>"
      ]
     },
     "metadata": {},
     "output_type": "display_data"
    }
   ],
   "source": [
    "plt.hist(df['X13'], bins=30000, color='skyblue', edgecolor='black')\n",
    "plt.xlabel('Values')\n",
    "plt.ylabel('Frequency')\n",
    "plt.title('Distribution of Values')\n",
    "plt.grid(True)\n",
    "plt.show()"
   ]
  },
  {
   "cell_type": "code",
   "execution_count": 11,
   "id": "d46fa8eb-634b-4aa8-9118-a6cdb2a7e96d",
   "metadata": {},
   "outputs": [],
   "source": [
    "# Missing values are replaced with median income because distribution is skewed\n",
    "df['X13'].fillna(df['X13'].median(), inplace=True)"
   ]
  },
  {
   "cell_type": "markdown",
   "id": "b8d795a1-cd85-4eb3-b420-5eb240cab746",
   "metadata": {},
   "source": [
    "### X8: Loan Grade"
   ]
  },
  {
   "cell_type": "code",
   "execution_count": 12,
   "id": "b9bb5cec-b6ea-4a75-ad49-5669f1fce9f0",
   "metadata": {
    "tags": []
   },
   "outputs": [
    {
     "data": {
      "image/png": "[encoded data removed]",
      "text/plain": [
       "<Figure size 640x480 with 1 Axes>"
      ]
     },
     "metadata": {},
     "output_type": "display_data"
    }
   ],
   "source": [
    "loan_grade_counts = df['X8'].value_counts()\n",
    "\n",
    "loan_grade_counts = loan_grade_counts.sort_index()\n",
    "\n",
    "plt.bar(loan_grade_counts.index, loan_grade_counts.values)\n",
    "\n",
    "plt.xlabel('Loan Grade')\n",
    "plt.ylabel('Frequency')\n",
    "plt.title('Frequency of Loan Grades')\n",
    "\n",
    "plt.show()"
   ]
  },
  {
   "cell_type": "code",
   "execution_count": 13,
   "id": "a66a90ea-3aaa-49fd-8a11-7eb84961a0f9",
   "metadata": {
    "tags": []
   },
   "outputs": [],
   "source": [
    "from sklearn.preprocessing import LabelEncoder"
   ]
  },
  {
   "cell_type": "code",
   "execution_count": 14,
   "id": "193b63a4-578d-43c4-87e5-aaa81ba7aea2",
   "metadata": {
    "tags": []
   },
   "outputs": [],
   "source": [
    "# Change loan grade data to numeric\n",
    "label_encoder = LabelEncoder()\n",
    "df['X8'] = label_encoder.fit_transform(df['X8'])"
   ]
  },
  {
   "cell_type": "code",
   "execution_count": 15,
   "id": "d74f528c-7f71-4ca4-9176-4c506d94009e",
   "metadata": {
    "tags": []
   },
   "outputs": [],
   "source": [
    "# Missing values are replaced with median income because distribution is skewed\n",
    "median_value = df['X8'].median()\n",
    "\n",
    "df['X8'].fillna(median_value, inplace=True)\n",
    "df['X8'] = df['X8'].astype(float)\n"
   ]
  },
  {
   "cell_type": "markdown",
   "id": "c054cb59-dc68-454b-a778-3dd3386380ec",
   "metadata": {},
   "source": [
    "### X9: Loan subgrade"
   ]
  },
  {
   "cell_type": "code",
   "execution_count": 16,
   "id": "7318fa9b-caad-4c70-880f-b9379f3b7ef5",
   "metadata": {
    "tags": []
   },
   "outputs": [
    {
     "data": {
      "image/png": "[encoded data removed]",
      "text/plain": [
       "<Figure size 640x480 with 1 Axes>"
      ]
     },
     "metadata": {},
     "output_type": "display_data"
    }
   ],
   "source": [
    "loan_subgrade_counts = df['X9'].value_counts()\n",
    "\n",
    "loan_subgrade_counts = loan_subgrade_counts.sort_index()\n",
    "\n",
    "plt.bar(loan_subgrade_counts.index, loan_subgrade_counts.values)\n",
    "\n",
    "plt.xlabel('Loan Subgrade')\n",
    "plt.ylabel('Frequency')\n",
    "plt.title('Frequency of Loan Subgrades')\n",
    "\n",
    "plt.show()"
   ]
  },
  {
   "cell_type": "code",
   "execution_count": 17,
   "id": "902a2ddb-3423-4cf2-b499-6d60e3f08024",
   "metadata": {},
   "outputs": [],
   "source": [
    "df['X9'] = label_encoder.fit_transform(df['X9'])"
   ]
  },
  {
   "cell_type": "code",
   "execution_count": 18,
   "id": "d09b5183-61ea-40c7-b8d9-96185e5b665d",
   "metadata": {},
   "outputs": [],
   "source": [
    "# Missing values are replaced with median income because distribution is skewed\n",
    "median_value = df['X9'].median()\n",
    "\n",
    "df['X9'].fillna(median_value, inplace=True)\n",
    "df['X9'] = df['X9'].astype(float)\n"
   ]
  },
  {
   "cell_type": "markdown",
   "id": "45f92ba2-39d4-4bc6-9846-a394e5058c41",
   "metadata": {},
   "source": [
    "### X11: Number of years employed (0 to 10; 10 = 10 or more)"
   ]
  },
  {
   "cell_type": "code",
   "execution_count": 19,
   "id": "103dedd5-16a4-416b-a2c6-72b8f1eb48c3",
   "metadata": {
    "tags": []
   },
   "outputs": [],
   "source": [
    "# change format to numerical\n",
    "df['X11'] = df['X11'].str.replace(' years?', '', regex=True)\n",
    "df['X11'] = df['X11'].replace({'< 1': 0, '<1': 0, '< 1 ': 0}, regex=True)\n",
    "df['X11'] = df['X11'].replace('\\+', '', regex=True)\n",
    "df['X11'] = df['X11'].astype(float)\n",
    "label_encoder = LabelEncoder()\n",
    "df['X11'] = label_encoder.fit_transform(df['X11'])\n",
    "df['X11'] = df['X11'].astype(float)"
   ]
  },
  {
   "cell_type": "code",
   "execution_count": 20,
   "id": "854da469-9619-4f26-b5be-271bb0482301",
   "metadata": {
    "tags": []
   },
   "outputs": [
    {
     "data": {
      "image/png": "[encoded data removed]",
      "text/plain": [
       "<Figure size 640x480 with 1 Axes>"
      ]
     },
     "metadata": {},
     "output_type": "display_data"
    }
   ],
   "source": [
    "plt.hist(df['X11'])\n",
    "\n",
    "plt.xlabel('Number of Years Employed')\n",
    "plt.ylabel('Frequency')\n",
    "plt.title('Frequency of Number of Years Employed')\n",
    "\n",
    "plt.show()"
   ]
  },
  {
   "cell_type": "code",
   "execution_count": 21,
   "id": "1e8789c5-b9e3-47dd-bc71-adc72f99d890",
   "metadata": {
    "tags": []
   },
   "outputs": [],
   "source": [
    "# Missing values are replaced with median income because distribution is skewed               \n",
    "median_value = df['X11'].median()\n",
    "\n",
    "df['X11'].fillna(median_value, inplace=True)"
   ]
  },
  {
   "cell_type": "markdown",
   "id": "d977a93d-11f1-480a-b245-7e05bef543c0",
   "metadata": {},
   "source": [
    "### X12: Home ownership status: RENT, OWN, MORTGAGE, OTHER."
   ]
  },
  {
   "cell_type": "code",
   "execution_count": 22,
   "id": "da518eb2-92f1-46de-a469-76c3af09832a",
   "metadata": {},
   "outputs": [],
   "source": [
    "label_encoder = LabelEncoder()\n",
    "df['X12'] = label_encoder.fit_transform(df['X12'])\n",
    "df['X12'] = df['X12'].astype(float)"
   ]
  },
  {
   "cell_type": "code",
   "execution_count": 23,
   "id": "a10ad555-e160-491c-bab4-e6fa33e135b4",
   "metadata": {
    "tags": []
   },
   "outputs": [
    {
     "data": {
      "image/png": "[encoded data removed]",
      "text/plain": [
       "<Figure size 640x480 with 1 Axes>"
      ]
     },
     "metadata": {},
     "output_type": "display_data"
    }
   ],
   "source": [
    "plt.hist(df['X12'])\n",
    "\n",
    "plt.xlabel('Home Ownership Status')\n",
    "plt.ylabel('Frequency')\n",
    "plt.title('Frequency of Home Ownership Status')\n",
    "\n",
    "plt.show()"
   ]
  },
  {
   "cell_type": "code",
   "execution_count": 24,
   "id": "338ebfb7-c477-4e3a-83d8-c8099ca4a2c7",
   "metadata": {
    "tags": []
   },
   "outputs": [],
   "source": [
    "# change missing values to 'OTHER' because 'OTHER' works as an umbrella term\n",
    "df['X12'].replace(6, 5, inplace=True)"
   ]
  },
  {
   "cell_type": "markdown",
   "id": "150bda87-34e3-43d5-92aa-b0c9293e59f0",
   "metadata": {},
   "source": [
    "### X30: Revolving line utilization rate, or the amount of credit the borrower is using relative to all available revolving credit."
   ]
  },
  {
   "cell_type": "code",
   "execution_count": 25,
   "id": "0ae64cd4-599a-4bfd-8b4c-af491e2f2557",
   "metadata": {
    "tags": []
   },
   "outputs": [
    {
     "data": {
      "text/plain": [
       "0         52.10%\n",
       "1         76.70%\n",
       "2         66.30%\n",
       "3         40.40%\n",
       "4         25.60%\n",
       "           ...  \n",
       "399995    76.10%\n",
       "399996    37.80%\n",
       "399997    69.30%\n",
       "399998       39%\n",
       "399999    53.70%\n",
       "Name: X30, Length: 338990, dtype: object"
      ]
     },
     "execution_count": 25,
     "metadata": {},
     "output_type": "execute_result"
    }
   ],
   "source": [
    "df['X30']"
   ]
  },
  {
   "cell_type": "code",
   "execution_count": 26,
   "id": "b4bfa4aa-4ca2-4c91-975c-1ad77b41ce96",
   "metadata": {
    "tags": []
   },
   "outputs": [],
   "source": [
    "df['X30'] = df['X30'].replace('%', '', regex=True)"
   ]
  },
  {
   "cell_type": "code",
   "execution_count": 27,
   "id": "5b74ebcc-4b44-443a-a5ce-6236a593e287",
   "metadata": {
    "tags": []
   },
   "outputs": [],
   "source": [
    "df['X30'] = df['X30'].astype(float)"
   ]
  },
  {
   "cell_type": "code",
   "execution_count": 28,
   "id": "0aa174cb-9532-4606-9205-cb434bbafb0e",
   "metadata": {
    "tags": []
   },
   "outputs": [
    {
     "data": {
      "text/plain": [
       "0         52.1\n",
       "1         76.7\n",
       "2         66.3\n",
       "3         40.4\n",
       "4         25.6\n",
       "          ... \n",
       "399995    76.1\n",
       "399996    37.8\n",
       "399997    69.3\n",
       "399998    39.0\n",
       "399999    53.7\n",
       "Name: X30, Length: 338990, dtype: float64"
      ]
     },
     "execution_count": 28,
     "metadata": {},
     "output_type": "execute_result"
    }
   ],
   "source": [
    "df['X30']"
   ]
  },
  {
   "cell_type": "code",
   "execution_count": 29,
   "id": "411bbb66-b865-47df-aa9f-1ef4985fc404",
   "metadata": {
    "tags": []
   },
   "outputs": [
    {
     "data": {
      "image/png": "[encoded data removed]",
      "text/plain": [
       "<Figure size 640x480 with 1 Axes>"
      ]
     },
     "metadata": {},
     "output_type": "display_data"
    }
   ],
   "source": [
    "plt.hist(df['X30'], bins=30000, color='skyblue', edgecolor='black')\n",
    "plt.xlabel('Values')\n",
    "plt.ylabel('Frequency')\n",
    "plt.title('Distribution of Values')\n",
    "plt.grid(True)\n",
    "plt.show()"
   ]
  },
  {
   "cell_type": "code",
   "execution_count": 30,
   "id": "62059960-3462-4aef-b05c-daf15d44bce4",
   "metadata": {
    "tags": []
   },
   "outputs": [],
   "source": [
    "# The distribution looks symmetrical enough that we will use mean to replace missing values\n",
    "mean_value = df['X30'].mean()\n",
    "\n",
    "df['X30'].fillna(mean_value, inplace=True)"
   ]
  },
  {
   "cell_type": "code",
   "execution_count": 31,
   "id": "539ffa7f-eb6a-4bec-a53d-7d27616f0952",
   "metadata": {
    "tags": []
   },
   "outputs": [
    {
     "data": {
      "text/plain": [
       "X1     0\n",
       "X2     1\n",
       "X3     1\n",
       "X4     1\n",
       "X5     1\n",
       "X6     1\n",
       "X7     1\n",
       "X8     0\n",
       "X9     0\n",
       "X11    0\n",
       "X12    0\n",
       "X13    0\n",
       "X14    1\n",
       "X15    1\n",
       "X20    1\n",
       "X21    1\n",
       "X22    1\n",
       "X23    1\n",
       "X24    1\n",
       "X27    1\n",
       "X28    1\n",
       "X29    1\n",
       "X30    0\n",
       "X31    1\n",
       "X32    1\n",
       "dtype: int64"
      ]
     },
     "execution_count": 31,
     "metadata": {},
     "output_type": "execute_result"
    }
   ],
   "source": [
    "df.isnull().sum()"
   ]
  },
  {
   "cell_type": "code",
   "execution_count": 32,
   "id": "66498942-d81e-495c-90f7-c2ed912ae1ba",
   "metadata": {
    "tags": []
   },
   "outputs": [
    {
     "name": "stdout",
     "output_type": "stream",
     "text": [
      "<class 'pandas.core.frame.DataFrame'>\n",
      "Int64Index: 338990 entries, 0 to 399999\n",
      "Data columns (total 25 columns):\n",
      " #   Column  Non-Null Count   Dtype  \n",
      "---  ------  --------------   -----  \n",
      " 0   X1      338990 non-null  float64\n",
      " 1   X2      338989 non-null  float64\n",
      " 2   X3      338989 non-null  float64\n",
      " 3   X4      338989 non-null  object \n",
      " 4   X5      338989 non-null  object \n",
      " 5   X6      338989 non-null  object \n",
      " 6   X7      338989 non-null  object \n",
      " 7   X8      338990 non-null  float64\n",
      " 8   X9      338990 non-null  float64\n",
      " 9   X11     338990 non-null  float64\n",
      " 10  X12     338990 non-null  float64\n",
      " 11  X13     338990 non-null  float64\n",
      " 12  X14     338989 non-null  object \n",
      " 13  X15     338989 non-null  object \n",
      " 14  X20     338989 non-null  object \n",
      " 15  X21     338989 non-null  float64\n",
      " 16  X22     338989 non-null  float64\n",
      " 17  X23     338989 non-null  object \n",
      " 18  X24     338989 non-null  float64\n",
      " 19  X27     338989 non-null  float64\n",
      " 20  X28     338989 non-null  float64\n",
      " 21  X29     338989 non-null  float64\n",
      " 22  X30     338990 non-null  float64\n",
      " 23  X31     338989 non-null  float64\n",
      " 24  X32     338989 non-null  object \n",
      "dtypes: float64(16), object(9)\n",
      "memory usage: 67.2+ MB\n"
     ]
    }
   ],
   "source": [
    "df.info()"
   ]
  },
  {
   "cell_type": "markdown",
   "id": "aa8c51ab-5829-42b8-8673-a0ea179e14dc",
   "metadata": {
    "tags": []
   },
   "source": [
    "## Format All Columns Numerical"
   ]
  },
  {
   "cell_type": "code",
   "execution_count": 33,
   "id": "bee71ed8-1ce8-423b-9c5a-0d94fc1850af",
   "metadata": {
    "tags": []
   },
   "outputs": [
    {
     "data": {
      "text/html": [
       "<div>\n",
       "<style scoped>\n",
       "    .dataframe tbody tr th:only-of-type {\n",
       "        vertical-align: middle;\n",
       "    }\n",
       "\n",
       "    .dataframe tbody tr th {\n",
       "        vertical-align: top;\n",
       "    }\n",
       "\n",
       "    .dataframe thead th {\n",
       "        text-align: right;\n",
       "    }\n",
       "</style>\n",
       "<table border=\"1\" class=\"dataframe\">\n",
       "  <thead>\n",
       "    <tr style=\"text-align: right;\">\n",
       "      <th></th>\n",
       "      <th>X1</th>\n",
       "      <th>X2</th>\n",
       "      <th>X3</th>\n",
       "      <th>X4</th>\n",
       "      <th>X5</th>\n",
       "      <th>X6</th>\n",
       "      <th>X7</th>\n",
       "      <th>X8</th>\n",
       "      <th>X9</th>\n",
       "      <th>X11</th>\n",
       "      <th>...</th>\n",
       "      <th>X21</th>\n",
       "      <th>X22</th>\n",
       "      <th>X23</th>\n",
       "      <th>X24</th>\n",
       "      <th>X27</th>\n",
       "      <th>X28</th>\n",
       "      <th>X29</th>\n",
       "      <th>X30</th>\n",
       "      <th>X31</th>\n",
       "      <th>X32</th>\n",
       "    </tr>\n",
       "  </thead>\n",
       "  <tbody>\n",
       "    <tr>\n",
       "      <th>0</th>\n",
       "      <td>11.89</td>\n",
       "      <td>54734.0</td>\n",
       "      <td>80364.0</td>\n",
       "      <td>$25,000</td>\n",
       "      <td>$25,000</td>\n",
       "      <td>$19,080</td>\n",
       "      <td>36 months</td>\n",
       "      <td>1.0</td>\n",
       "      <td>8.0</td>\n",
       "      <td>0.0</td>\n",
       "      <td>...</td>\n",
       "      <td>19.48</td>\n",
       "      <td>0.0</td>\n",
       "      <td>Feb-94</td>\n",
       "      <td>0.0</td>\n",
       "      <td>10.0</td>\n",
       "      <td>0.0</td>\n",
       "      <td>28854.0</td>\n",
       "      <td>52.1</td>\n",
       "      <td>42.0</td>\n",
       "      <td>f</td>\n",
       "    </tr>\n",
       "    <tr>\n",
       "      <th>1</th>\n",
       "      <td>10.71</td>\n",
       "      <td>55742.0</td>\n",
       "      <td>114426.0</td>\n",
       "      <td>$7,000</td>\n",
       "      <td>$7,000</td>\n",
       "      <td>$673</td>\n",
       "      <td>36 months</td>\n",
       "      <td>1.0</td>\n",
       "      <td>9.0</td>\n",
       "      <td>0.0</td>\n",
       "      <td>...</td>\n",
       "      <td>14.29</td>\n",
       "      <td>0.0</td>\n",
       "      <td>Oct-00</td>\n",
       "      <td>0.0</td>\n",
       "      <td>7.0</td>\n",
       "      <td>0.0</td>\n",
       "      <td>33623.0</td>\n",
       "      <td>76.7</td>\n",
       "      <td>7.0</td>\n",
       "      <td>f</td>\n",
       "    </tr>\n",
       "    <tr>\n",
       "      <th>2</th>\n",
       "      <td>16.99</td>\n",
       "      <td>57167.0</td>\n",
       "      <td>137225.0</td>\n",
       "      <td>$25,000</td>\n",
       "      <td>$25,000</td>\n",
       "      <td>$24,725</td>\n",
       "      <td>36 months</td>\n",
       "      <td>3.0</td>\n",
       "      <td>17.0</td>\n",
       "      <td>1.0</td>\n",
       "      <td>...</td>\n",
       "      <td>10.50</td>\n",
       "      <td>0.0</td>\n",
       "      <td>Jun-00</td>\n",
       "      <td>0.0</td>\n",
       "      <td>10.0</td>\n",
       "      <td>0.0</td>\n",
       "      <td>19878.0</td>\n",
       "      <td>66.3</td>\n",
       "      <td>17.0</td>\n",
       "      <td>f</td>\n",
       "    </tr>\n",
       "    <tr>\n",
       "      <th>3</th>\n",
       "      <td>13.11</td>\n",
       "      <td>57245.0</td>\n",
       "      <td>138150.0</td>\n",
       "      <td>$1,200</td>\n",
       "      <td>$1,200</td>\n",
       "      <td>$1,200</td>\n",
       "      <td>36 months</td>\n",
       "      <td>2.0</td>\n",
       "      <td>11.0</td>\n",
       "      <td>10.0</td>\n",
       "      <td>...</td>\n",
       "      <td>5.47</td>\n",
       "      <td>0.0</td>\n",
       "      <td>Jan-85</td>\n",
       "      <td>0.0</td>\n",
       "      <td>5.0</td>\n",
       "      <td>0.0</td>\n",
       "      <td>2584.0</td>\n",
       "      <td>40.4</td>\n",
       "      <td>31.0</td>\n",
       "      <td>f</td>\n",
       "    </tr>\n",
       "    <tr>\n",
       "      <th>4</th>\n",
       "      <td>13.57</td>\n",
       "      <td>57416.0</td>\n",
       "      <td>139635.0</td>\n",
       "      <td>$10,800</td>\n",
       "      <td>$10,800</td>\n",
       "      <td>$10,692</td>\n",
       "      <td>36 months</td>\n",
       "      <td>2.0</td>\n",
       "      <td>12.0</td>\n",
       "      <td>6.0</td>\n",
       "      <td>...</td>\n",
       "      <td>11.63</td>\n",
       "      <td>0.0</td>\n",
       "      <td>Dec-96</td>\n",
       "      <td>1.0</td>\n",
       "      <td>14.0</td>\n",
       "      <td>0.0</td>\n",
       "      <td>3511.0</td>\n",
       "      <td>25.6</td>\n",
       "      <td>40.0</td>\n",
       "      <td>f</td>\n",
       "    </tr>\n",
       "  </tbody>\n",
       "</table>\n",
       "<p>5 rows × 25 columns</p>\n",
       "</div>"
      ],
      "text/plain": [
       "      X1       X2        X3       X4       X5       X6          X7   X8    X9  \\\n",
       "0  11.89  54734.0   80364.0  $25,000  $25,000  $19,080   36 months  1.0   8.0   \n",
       "1  10.71  55742.0  114426.0   $7,000   $7,000     $673   36 months  1.0   9.0   \n",
       "2  16.99  57167.0  137225.0  $25,000  $25,000  $24,725   36 months  3.0  17.0   \n",
       "3  13.11  57245.0  138150.0   $1,200   $1,200   $1,200   36 months  2.0  11.0   \n",
       "4  13.57  57416.0  139635.0  $10,800  $10,800  $10,692   36 months  2.0  12.0   \n",
       "\n",
       "    X11  ...    X21  X22     X23  X24   X27  X28      X29   X30   X31  X32  \n",
       "0   0.0  ...  19.48  0.0  Feb-94  0.0  10.0  0.0  28854.0  52.1  42.0    f  \n",
       "1   0.0  ...  14.29  0.0  Oct-00  0.0   7.0  0.0  33623.0  76.7   7.0    f  \n",
       "2   1.0  ...  10.50  0.0  Jun-00  0.0  10.0  0.0  19878.0  66.3  17.0    f  \n",
       "3  10.0  ...   5.47  0.0  Jan-85  0.0   5.0  0.0   2584.0  40.4  31.0    f  \n",
       "4   6.0  ...  11.63  0.0  Dec-96  1.0  14.0  0.0   3511.0  25.6  40.0    f  \n",
       "\n",
       "[5 rows x 25 columns]"
      ]
     },
     "execution_count": 33,
     "metadata": {},
     "output_type": "execute_result"
    }
   ],
   "source": [
    "df.head()"
   ]
  },
  {
   "cell_type": "code",
   "execution_count": 34,
   "id": "0dc0ada4-9463-4aa0-9957-a61e36728d08",
   "metadata": {
    "tags": []
   },
   "outputs": [
    {
     "name": "stderr",
     "output_type": "stream",
     "text": [
      "/var/folders/04/yllkntj5677_mvn3c6nn113r0000gn/T/ipykernel_46740/2008793394.py:1: FutureWarning: The default value of regex will change from True to False in a future version. In addition, single character regular expressions will *not* be treated as literal strings when regex=True.\n",
      "  df['X4'] = df['X4'].str.replace('$', '').astype(str).str.replace(',', '').astype(float)\n",
      "/var/folders/04/yllkntj5677_mvn3c6nn113r0000gn/T/ipykernel_46740/2008793394.py:2: FutureWarning: The default value of regex will change from True to False in a future version. In addition, single character regular expressions will *not* be treated as literal strings when regex=True.\n",
      "  df['X5'] = df['X5'].str.replace('$', '').astype(str).str.replace(',', '').astype(float)\n",
      "/var/folders/04/yllkntj5677_mvn3c6nn113r0000gn/T/ipykernel_46740/2008793394.py:3: FutureWarning: The default value of regex will change from True to False in a future version. In addition, single character regular expressions will *not* be treated as literal strings when regex=True.\n",
      "  df['X6'] = df['X6'].str.replace('$', '').astype(str).str.replace(',', '').astype(float)\n"
     ]
    }
   ],
   "source": [
    "df['X4'] = df['X4'].str.replace('$', '').astype(str).str.replace(',', '').astype(float)\n",
    "df['X5'] = df['X5'].str.replace('$', '').astype(str).str.replace(',', '').astype(float)\n",
    "df['X6'] = df['X6'].str.replace('$', '').astype(str).str.replace(',', '').astype(float)"
   ]
  },
  {
   "cell_type": "code",
   "execution_count": 35,
   "id": "70ac833f-de71-4ed7-971d-b01708033eaa",
   "metadata": {
    "tags": []
   },
   "outputs": [],
   "source": [
    "df['X7'] = df['X7'].replace(' months', '', regex=True)\n",
    "\n",
    "label_encoder = LabelEncoder()\n",
    "df['X7'] = label_encoder.fit_transform(df['X7'])\n",
    "df['X7'] = df['X7'].astype(float)"
   ]
  },
  {
   "cell_type": "code",
   "execution_count": 36,
   "id": "299f1800-9442-4e42-b83a-01c194e65f26",
   "metadata": {
    "tags": []
   },
   "outputs": [],
   "source": [
    "df['X14'] = label_encoder.fit_transform(df['X14'])\n",
    "df['X14'] = df['X14'].astype(float)"
   ]
  },
  {
   "cell_type": "code",
   "execution_count": 37,
   "id": "6efa87c8-97da-4ea7-a7bd-51afda1387aa",
   "metadata": {
    "tags": []
   },
   "outputs": [
    {
     "data": {
      "text/plain": [
       "0         0.0\n",
       "1         2.0\n",
       "2         0.0\n",
       "3         2.0\n",
       "4         2.0\n",
       "         ... \n",
       "399995    1.0\n",
       "399996    0.0\n",
       "399997    1.0\n",
       "399998    1.0\n",
       "399999    2.0\n",
       "Name: X14, Length: 338990, dtype: float64"
      ]
     },
     "execution_count": 37,
     "metadata": {},
     "output_type": "execute_result"
    }
   ],
   "source": [
    "df['X14']"
   ]
  },
  {
   "cell_type": "code",
   "execution_count": 38,
   "id": "278ab05d-4028-4a8f-b216-3e3d80d776ed",
   "metadata": {
    "tags": []
   },
   "outputs": [],
   "source": [
    "df['X20'] = label_encoder.fit_transform(df['X20'])\n",
    "df['X20'] = df['X20'].astype(float)"
   ]
  },
  {
   "cell_type": "code",
   "execution_count": 39,
   "id": "02f9883d-6744-4992-b032-ee3b24ee05ae",
   "metadata": {
    "tags": []
   },
   "outputs": [],
   "source": [
    "df['X32'] = label_encoder.fit_transform(df['X32'])\n",
    "df['X32'] = df['X32'].astype(float)"
   ]
  },
  {
   "cell_type": "code",
   "execution_count": 40,
   "id": "49f53a19-8723-4a7b-8787-c90e052f309b",
   "metadata": {},
   "outputs": [],
   "source": [
    "#Extracting year from X15 and X23\n",
    "df['X15'] = pd.to_datetime(df['X15'], format='%b-%y')\n",
    "\n",
    "df['X15'] = df['X15'].dt.year.astype(float)\n",
    "\n",
    "df['X23'] = pd.to_datetime(df['X23'], format='%b-%y')\n",
    "\n",
    "df['X23'] = df['X23'].dt.year.astype(float)"
   ]
  },
  {
   "cell_type": "markdown",
   "id": "329bd299-eb65-4e38-9d48-0f0d1b240f2b",
   "metadata": {},
   "source": [
    "## Build A Model"
   ]
  },
  {
   "cell_type": "code",
   "execution_count": 41,
   "id": "d1460fd8-9743-4bf1-952e-2c01b66726de",
   "metadata": {},
   "outputs": [],
   "source": [
    "df.dropna(inplace=True)"
   ]
  },
  {
   "cell_type": "code",
   "execution_count": 42,
   "id": "52560811-39a2-467b-bc2f-94a5d135d130",
   "metadata": {
    "tags": []
   },
   "outputs": [
    {
     "name": "stdout",
     "output_type": "stream",
     "text": [
      "<class 'pandas.core.frame.DataFrame'>\n",
      "Int64Index: 338989 entries, 0 to 399999\n",
      "Data columns (total 25 columns):\n",
      " #   Column  Non-Null Count   Dtype  \n",
      "---  ------  --------------   -----  \n",
      " 0   X1      338989 non-null  float64\n",
      " 1   X2      338989 non-null  float64\n",
      " 2   X3      338989 non-null  float64\n",
      " 3   X4      338989 non-null  float64\n",
      " 4   X5      338989 non-null  float64\n",
      " 5   X6      338989 non-null  float64\n",
      " 6   X7      338989 non-null  float64\n",
      " 7   X8      338989 non-null  float64\n",
      " 8   X9      338989 non-null  float64\n",
      " 9   X11     338989 non-null  float64\n",
      " 10  X12     338989 non-null  float64\n",
      " 11  X13     338989 non-null  float64\n",
      " 12  X14     338989 non-null  float64\n",
      " 13  X15     338989 non-null  float64\n",
      " 14  X20     338989 non-null  float64\n",
      " 15  X21     338989 non-null  float64\n",
      " 16  X22     338989 non-null  float64\n",
      " 17  X23     338989 non-null  float64\n",
      " 18  X24     338989 non-null  float64\n",
      " 19  X27     338989 non-null  float64\n",
      " 20  X28     338989 non-null  float64\n",
      " 21  X29     338989 non-null  float64\n",
      " 22  X30     338989 non-null  float64\n",
      " 23  X31     338989 non-null  float64\n",
      " 24  X32     338989 non-null  float64\n",
      "dtypes: float64(25)\n",
      "memory usage: 67.2 MB\n"
     ]
    }
   ],
   "source": [
    "df.info()"
   ]
  },
  {
   "cell_type": "code",
   "execution_count": 43,
   "id": "0c45a97f-03f2-4f42-9458-b3866eb8481a",
   "metadata": {
    "tags": []
   },
   "outputs": [],
   "source": [
    "X = df.drop(['X1'], axis=1)\n",
    "y = df['X1']\n",
    "\n",
    "from sklearn.preprocessing import StandardScaler\n",
    "scaler = StandardScaler()\n",
    "X = scaler.fit_transform(X)\n",
    "\n",
    "train_X, test_X, train_y, test_y = train_test_split(X, y, train_size=0.8, test_size=0.2, random_state=42)"
   ]
  },
  {
   "cell_type": "code",
   "execution_count": 70,
   "id": "8f7a51c5-95f4-4ece-ab9a-8c37a06b88a8",
   "metadata": {
    "tags": []
   },
   "outputs": [],
   "source": [
    "def model_regression(model):\n",
    "    regressor = model()\n",
    "    regressor.fit(train_X, train_y)\n",
    "\n",
    "    predictions = regressor.predict(test_X)\n",
    "\n",
    "\n",
    "    mse = mean_squared_error(test_y, predictions)\n",
    "    rmse = np.sqrt(mse)\n",
    "    r_squared = r2_score(test_y, predictions)\n",
    "\n",
    "\n",
    "    print(\"Root Mean Squared Error:\", rmse)\n",
    "    print(\"R-Squared:\", r_squared)\n",
    "    \n",
    "    return regressor"
   ]
  },
  {
   "cell_type": "code",
   "execution_count": 71,
   "id": "6f4d2291-53eb-4bb1-8806-15c657562168",
   "metadata": {
    "tags": []
   },
   "outputs": [
    {
     "name": "stdout",
     "output_type": "stream",
     "text": [
      "Root Mean Squared Error: 2.9502611689091847\n",
      "R-Squared: 0.5493407218143935\n"
     ]
    },
    {
     "data": {
      "text/html": [
       "<style>#sk-container-id-7 {color: black;}#sk-container-id-7 pre{padding: 0;}#sk-container-id-7 div.sk-toggleable {background-color: white;}#sk-container-id-7 label.sk-toggleable__label {cursor: pointer;display: block;width: 100%;margin-bottom: 0;padding: 0.3em;box-sizing: border-box;text-align: center;}#sk-container-id-7 label.sk-toggleable__label-arrow:before {content: \"▸\";float: left;margin-right: 0.25em;color: #696969;}#sk-container-id-7 label.sk-toggleable__label-arrow:hover:before {color: black;}#sk-container-id-7 div.sk-estimator:hover label.sk-toggleable__label-arrow:before {color: black;}#sk-container-id-7 div.sk-toggleable__content {max-height: 0;max-width: 0;overflow: hidden;text-align: left;background-color: #f0f8ff;}#sk-container-id-7 div.sk-toggleable__content pre {margin: 0.2em;color: black;border-radius: 0.25em;background-color: #f0f8ff;}#sk-container-id-7 input.sk-toggleable__control:checked~div.sk-toggleable__content {max-height: 200px;max-width: 100%;overflow: auto;}#sk-container-id-7 input.sk-toggleable__control:checked~label.sk-toggleable__label-arrow:before {content: \"▾\";}#sk-container-id-7 div.sk-estimator input.sk-toggleable__control:checked~label.sk-toggleable__label {background-color: #d4ebff;}#sk-container-id-7 div.sk-label input.sk-toggleable__control:checked~label.sk-toggleable__label {background-color: #d4ebff;}#sk-container-id-7 input.sk-hidden--visually {border: 0;clip: rect(1px 1px 1px 1px);clip: rect(1px, 1px, 1px, 1px);height: 1px;margin: -1px;overflow: hidden;padding: 0;position: absolute;width: 1px;}#sk-container-id-7 div.sk-estimator {font-family: monospace;background-color: #f0f8ff;border: 1px dotted black;border-radius: 0.25em;box-sizing: border-box;margin-bottom: 0.5em;}#sk-container-id-7 div.sk-estimator:hover {background-color: #d4ebff;}#sk-container-id-7 div.sk-parallel-item::after {content: \"\";width: 100%;border-bottom: 1px solid gray;flex-grow: 1;}#sk-container-id-7 div.sk-label:hover label.sk-toggleable__label {background-color: #d4ebff;}#sk-container-id-7 div.sk-serial::before {content: \"\";position: absolute;border-left: 1px solid gray;box-sizing: border-box;top: 0;bottom: 0;left: 50%;z-index: 0;}#sk-container-id-7 div.sk-serial {display: flex;flex-direction: column;align-items: center;background-color: white;padding-right: 0.2em;padding-left: 0.2em;position: relative;}#sk-container-id-7 div.sk-item {position: relative;z-index: 1;}#sk-container-id-7 div.sk-parallel {display: flex;align-items: stretch;justify-content: center;background-color: white;position: relative;}#sk-container-id-7 div.sk-item::before, #sk-container-id-7 div.sk-parallel-item::before {content: \"\";position: absolute;border-left: 1px solid gray;box-sizing: border-box;top: 0;bottom: 0;left: 50%;z-index: -1;}#sk-container-id-7 div.sk-parallel-item {display: flex;flex-direction: column;z-index: 1;position: relative;background-color: white;}#sk-container-id-7 div.sk-parallel-item:first-child::after {align-self: flex-end;width: 50%;}#sk-container-id-7 div.sk-parallel-item:last-child::after {align-self: flex-start;width: 50%;}#sk-container-id-7 div.sk-parallel-item:only-child::after {width: 0;}#sk-container-id-7 div.sk-dashed-wrapped {border: 1px dashed gray;margin: 0 0.4em 0.5em 0.4em;box-sizing: border-box;padding-bottom: 0.4em;background-color: white;}#sk-container-id-7 div.sk-label label {font-family: monospace;font-weight: bold;display: inline-block;line-height: 1.2em;}#sk-container-id-7 div.sk-label-container {text-align: center;}#sk-container-id-7 div.sk-container {/* jupyter's `normalize.less` sets `[hidden] { display: none; }` but bootstrap.min.css set `[hidden] { display: none !important; }` so we also need the `!important` here to be able to override the default hidden behavior on the sphinx rendered scikit-learn.org. See: https://github.com/scikit-learn/scikit-learn/issues/21755 */display: inline-block !important;position: relative;}#sk-container-id-7 div.sk-text-repr-fallback {display: none;}</style><div id=\"sk-container-id-7\" class=\"sk-top-container\"><div class=\"sk-text-repr-fallback\"><pre>LinearRegression()</pre><b>In a Jupyter environment, please rerun this cell to show the HTML representation or trust the notebook. <br />On GitHub, the HTML representation is unable to render, please try loading this page with nbviewer.org.</b></div><div class=\"sk-container\" hidden><div class=\"sk-item\"><div class=\"sk-estimator sk-toggleable\"><input class=\"sk-toggleable__control sk-hidden--visually\" id=\"sk-estimator-id-7\" type=\"checkbox\" checked><label for=\"sk-estimator-id-7\" class=\"sk-toggleable__label sk-toggleable__label-arrow\">LinearRegression</label><div class=\"sk-toggleable__content\"><pre>LinearRegression()</pre></div></div></div></div></div>"
      ],
      "text/plain": [
       "LinearRegression()"
      ]
     },
     "execution_count": 71,
     "metadata": {},
     "output_type": "execute_result"
    }
   ],
   "source": [
    "model_regression(LinearRegression)"
   ]
  },
  {
   "cell_type": "code",
   "execution_count": 72,
   "id": "2d628f76-0d7a-4b33-9c6f-8c7dcdb48d4b",
   "metadata": {
    "tags": []
   },
   "outputs": [
    {
     "name": "stdout",
     "output_type": "stream",
     "text": [
      "Root Mean Squared Error: 1.7350244828376056\n",
      "R-Squared: 0.8441385883410867\n"
     ]
    },
    {
     "data": {
      "text/html": [
       "<style>#sk-container-id-8 {color: black;}#sk-container-id-8 pre{padding: 0;}#sk-container-id-8 div.sk-toggleable {background-color: white;}#sk-container-id-8 label.sk-toggleable__label {cursor: pointer;display: block;width: 100%;margin-bottom: 0;padding: 0.3em;box-sizing: border-box;text-align: center;}#sk-container-id-8 label.sk-toggleable__label-arrow:before {content: \"▸\";float: left;margin-right: 0.25em;color: #696969;}#sk-container-id-8 label.sk-toggleable__label-arrow:hover:before {color: black;}#sk-container-id-8 div.sk-estimator:hover label.sk-toggleable__label-arrow:before {color: black;}#sk-container-id-8 div.sk-toggleable__content {max-height: 0;max-width: 0;overflow: hidden;text-align: left;background-color: #f0f8ff;}#sk-container-id-8 div.sk-toggleable__content pre {margin: 0.2em;color: black;border-radius: 0.25em;background-color: #f0f8ff;}#sk-container-id-8 input.sk-toggleable__control:checked~div.sk-toggleable__content {max-height: 200px;max-width: 100%;overflow: auto;}#sk-container-id-8 input.sk-toggleable__control:checked~label.sk-toggleable__label-arrow:before {content: \"▾\";}#sk-container-id-8 div.sk-estimator input.sk-toggleable__control:checked~label.sk-toggleable__label {background-color: #d4ebff;}#sk-container-id-8 div.sk-label input.sk-toggleable__control:checked~label.sk-toggleable__label {background-color: #d4ebff;}#sk-container-id-8 input.sk-hidden--visually {border: 0;clip: rect(1px 1px 1px 1px);clip: rect(1px, 1px, 1px, 1px);height: 1px;margin: -1px;overflow: hidden;padding: 0;position: absolute;width: 1px;}#sk-container-id-8 div.sk-estimator {font-family: monospace;background-color: #f0f8ff;border: 1px dotted black;border-radius: 0.25em;box-sizing: border-box;margin-bottom: 0.5em;}#sk-container-id-8 div.sk-estimator:hover {background-color: #d4ebff;}#sk-container-id-8 div.sk-parallel-item::after {content: \"\";width: 100%;border-bottom: 1px solid gray;flex-grow: 1;}#sk-container-id-8 div.sk-label:hover label.sk-toggleable__label {background-color: #d4ebff;}#sk-container-id-8 div.sk-serial::before {content: \"\";position: absolute;border-left: 1px solid gray;box-sizing: border-box;top: 0;bottom: 0;left: 50%;z-index: 0;}#sk-container-id-8 div.sk-serial {display: flex;flex-direction: column;align-items: center;background-color: white;padding-right: 0.2em;padding-left: 0.2em;position: relative;}#sk-container-id-8 div.sk-item {position: relative;z-index: 1;}#sk-container-id-8 div.sk-parallel {display: flex;align-items: stretch;justify-content: center;background-color: white;position: relative;}#sk-container-id-8 div.sk-item::before, #sk-container-id-8 div.sk-parallel-item::before {content: \"\";position: absolute;border-left: 1px solid gray;box-sizing: border-box;top: 0;bottom: 0;left: 50%;z-index: -1;}#sk-container-id-8 div.sk-parallel-item {display: flex;flex-direction: column;z-index: 1;position: relative;background-color: white;}#sk-container-id-8 div.sk-parallel-item:first-child::after {align-self: flex-end;width: 50%;}#sk-container-id-8 div.sk-parallel-item:last-child::after {align-self: flex-start;width: 50%;}#sk-container-id-8 div.sk-parallel-item:only-child::after {width: 0;}#sk-container-id-8 div.sk-dashed-wrapped {border: 1px dashed gray;margin: 0 0.4em 0.5em 0.4em;box-sizing: border-box;padding-bottom: 0.4em;background-color: white;}#sk-container-id-8 div.sk-label label {font-family: monospace;font-weight: bold;display: inline-block;line-height: 1.2em;}#sk-container-id-8 div.sk-label-container {text-align: center;}#sk-container-id-8 div.sk-container {/* jupyter's `normalize.less` sets `[hidden] { display: none; }` but bootstrap.min.css set `[hidden] { display: none !important; }` so we also need the `!important` here to be able to override the default hidden behavior on the sphinx rendered scikit-learn.org. See: https://github.com/scikit-learn/scikit-learn/issues/21755 */display: inline-block !important;position: relative;}#sk-container-id-8 div.sk-text-repr-fallback {display: none;}</style><div id=\"sk-container-id-8\" class=\"sk-top-container\"><div class=\"sk-text-repr-fallback\"><pre>DecisionTreeRegressor()</pre><b>In a Jupyter environment, please rerun this cell to show the HTML representation or trust the notebook. <br />On GitHub, the HTML representation is unable to render, please try loading this page with nbviewer.org.</b></div><div class=\"sk-container\" hidden><div class=\"sk-item\"><div class=\"sk-estimator sk-toggleable\"><input class=\"sk-toggleable__control sk-hidden--visually\" id=\"sk-estimator-id-8\" type=\"checkbox\" checked><label for=\"sk-estimator-id-8\" class=\"sk-toggleable__label sk-toggleable__label-arrow\">DecisionTreeRegressor</label><div class=\"sk-toggleable__content\"><pre>DecisionTreeRegressor()</pre></div></div></div></div></div>"
      ],
      "text/plain": [
       "DecisionTreeRegressor()"
      ]
     },
     "execution_count": 72,
     "metadata": {},
     "output_type": "execute_result"
    }
   ],
   "source": [
    "model_regression(DecisionTreeRegressor)"
   ]
  },
  {
   "cell_type": "code",
   "execution_count": 73,
   "id": "b4fe0227-4ec2-4bb3-98ce-9b1930e4679e",
   "metadata": {},
   "outputs": [
    {
     "name": "stdout",
     "output_type": "stream",
     "text": [
      "Root Mean Squared Error: 2.2246729930521285\n",
      "R-Squared: 0.7437524299916789\n"
     ]
    },
    {
     "data": {
      "text/html": [
       "<style>#sk-container-id-9 {color: black;}#sk-container-id-9 pre{padding: 0;}#sk-container-id-9 div.sk-toggleable {background-color: white;}#sk-container-id-9 label.sk-toggleable__label {cursor: pointer;display: block;width: 100%;margin-bottom: 0;padding: 0.3em;box-sizing: border-box;text-align: center;}#sk-container-id-9 label.sk-toggleable__label-arrow:before {content: \"▸\";float: left;margin-right: 0.25em;color: #696969;}#sk-container-id-9 label.sk-toggleable__label-arrow:hover:before {color: black;}#sk-container-id-9 div.sk-estimator:hover label.sk-toggleable__label-arrow:before {color: black;}#sk-container-id-9 div.sk-toggleable__content {max-height: 0;max-width: 0;overflow: hidden;text-align: left;background-color: #f0f8ff;}#sk-container-id-9 div.sk-toggleable__content pre {margin: 0.2em;color: black;border-radius: 0.25em;background-color: #f0f8ff;}#sk-container-id-9 input.sk-toggleable__control:checked~div.sk-toggleable__content {max-height: 200px;max-width: 100%;overflow: auto;}#sk-container-id-9 input.sk-toggleable__control:checked~label.sk-toggleable__label-arrow:before {content: \"▾\";}#sk-container-id-9 div.sk-estimator input.sk-toggleable__control:checked~label.sk-toggleable__label {background-color: #d4ebff;}#sk-container-id-9 div.sk-label input.sk-toggleable__control:checked~label.sk-toggleable__label {background-color: #d4ebff;}#sk-container-id-9 input.sk-hidden--visually {border: 0;clip: rect(1px 1px 1px 1px);clip: rect(1px, 1px, 1px, 1px);height: 1px;margin: -1px;overflow: hidden;padding: 0;position: absolute;width: 1px;}#sk-container-id-9 div.sk-estimator {font-family: monospace;background-color: #f0f8ff;border: 1px dotted black;border-radius: 0.25em;box-sizing: border-box;margin-bottom: 0.5em;}#sk-container-id-9 div.sk-estimator:hover {background-color: #d4ebff;}#sk-container-id-9 div.sk-parallel-item::after {content: \"\";width: 100%;border-bottom: 1px solid gray;flex-grow: 1;}#sk-container-id-9 div.sk-label:hover label.sk-toggleable__label {background-color: #d4ebff;}#sk-container-id-9 div.sk-serial::before {content: \"\";position: absolute;border-left: 1px solid gray;box-sizing: border-box;top: 0;bottom: 0;left: 50%;z-index: 0;}#sk-container-id-9 div.sk-serial {display: flex;flex-direction: column;align-items: center;background-color: white;padding-right: 0.2em;padding-left: 0.2em;position: relative;}#sk-container-id-9 div.sk-item {position: relative;z-index: 1;}#sk-container-id-9 div.sk-parallel {display: flex;align-items: stretch;justify-content: center;background-color: white;position: relative;}#sk-container-id-9 div.sk-item::before, #sk-container-id-9 div.sk-parallel-item::before {content: \"\";position: absolute;border-left: 1px solid gray;box-sizing: border-box;top: 0;bottom: 0;left: 50%;z-index: -1;}#sk-container-id-9 div.sk-parallel-item {display: flex;flex-direction: column;z-index: 1;position: relative;background-color: white;}#sk-container-id-9 div.sk-parallel-item:first-child::after {align-self: flex-end;width: 50%;}#sk-container-id-9 div.sk-parallel-item:last-child::after {align-self: flex-start;width: 50%;}#sk-container-id-9 div.sk-parallel-item:only-child::after {width: 0;}#sk-container-id-9 div.sk-dashed-wrapped {border: 1px dashed gray;margin: 0 0.4em 0.5em 0.4em;box-sizing: border-box;padding-bottom: 0.4em;background-color: white;}#sk-container-id-9 div.sk-label label {font-family: monospace;font-weight: bold;display: inline-block;line-height: 1.2em;}#sk-container-id-9 div.sk-label-container {text-align: center;}#sk-container-id-9 div.sk-container {/* jupyter's `normalize.less` sets `[hidden] { display: none; }` but bootstrap.min.css set `[hidden] { display: none !important; }` so we also need the `!important` here to be able to override the default hidden behavior on the sphinx rendered scikit-learn.org. See: https://github.com/scikit-learn/scikit-learn/issues/21755 */display: inline-block !important;position: relative;}#sk-container-id-9 div.sk-text-repr-fallback {display: none;}</style><div id=\"sk-container-id-9\" class=\"sk-top-container\"><div class=\"sk-text-repr-fallback\"><pre>KNeighborsRegressor()</pre><b>In a Jupyter environment, please rerun this cell to show the HTML representation or trust the notebook. <br />On GitHub, the HTML representation is unable to render, please try loading this page with nbviewer.org.</b></div><div class=\"sk-container\" hidden><div class=\"sk-item\"><div class=\"sk-estimator sk-toggleable\"><input class=\"sk-toggleable__control sk-hidden--visually\" id=\"sk-estimator-id-9\" type=\"checkbox\" checked><label for=\"sk-estimator-id-9\" class=\"sk-toggleable__label sk-toggleable__label-arrow\">KNeighborsRegressor</label><div class=\"sk-toggleable__content\"><pre>KNeighborsRegressor()</pre></div></div></div></div></div>"
      ],
      "text/plain": [
       "KNeighborsRegressor()"
      ]
     },
     "execution_count": 73,
     "metadata": {},
     "output_type": "execute_result"
    }
   ],
   "source": [
    "model_regression(KNeighborsRegressor)"
   ]
  },
  {
   "cell_type": "code",
   "execution_count": 74,
   "id": "71551950-b16f-496e-a294-8d6af382dadf",
   "metadata": {
    "tags": []
   },
   "outputs": [
    {
     "name": "stdout",
     "output_type": "stream",
     "text": [
      "Root Mean Squared Error: 1.1958608844835419\n",
      "R-Squared: 0.9259561978087015\n"
     ]
    },
    {
     "data": {
      "text/html": [
       "<style>#sk-container-id-10 {color: black;}#sk-container-id-10 pre{padding: 0;}#sk-container-id-10 div.sk-toggleable {background-color: white;}#sk-container-id-10 label.sk-toggleable__label {cursor: pointer;display: block;width: 100%;margin-bottom: 0;padding: 0.3em;box-sizing: border-box;text-align: center;}#sk-container-id-10 label.sk-toggleable__label-arrow:before {content: \"▸\";float: left;margin-right: 0.25em;color: #696969;}#sk-container-id-10 label.sk-toggleable__label-arrow:hover:before {color: black;}#sk-container-id-10 div.sk-estimator:hover label.sk-toggleable__label-arrow:before {color: black;}#sk-container-id-10 div.sk-toggleable__content {max-height: 0;max-width: 0;overflow: hidden;text-align: left;background-color: #f0f8ff;}#sk-container-id-10 div.sk-toggleable__content pre {margin: 0.2em;color: black;border-radius: 0.25em;background-color: #f0f8ff;}#sk-container-id-10 input.sk-toggleable__control:checked~div.sk-toggleable__content {max-height: 200px;max-width: 100%;overflow: auto;}#sk-container-id-10 input.sk-toggleable__control:checked~label.sk-toggleable__label-arrow:before {content: \"▾\";}#sk-container-id-10 div.sk-estimator input.sk-toggleable__control:checked~label.sk-toggleable__label {background-color: #d4ebff;}#sk-container-id-10 div.sk-label input.sk-toggleable__control:checked~label.sk-toggleable__label {background-color: #d4ebff;}#sk-container-id-10 input.sk-hidden--visually {border: 0;clip: rect(1px 1px 1px 1px);clip: rect(1px, 1px, 1px, 1px);height: 1px;margin: -1px;overflow: hidden;padding: 0;position: absolute;width: 1px;}#sk-container-id-10 div.sk-estimator {font-family: monospace;background-color: #f0f8ff;border: 1px dotted black;border-radius: 0.25em;box-sizing: border-box;margin-bottom: 0.5em;}#sk-container-id-10 div.sk-estimator:hover {background-color: #d4ebff;}#sk-container-id-10 div.sk-parallel-item::after {content: \"\";width: 100%;border-bottom: 1px solid gray;flex-grow: 1;}#sk-container-id-10 div.sk-label:hover label.sk-toggleable__label {background-color: #d4ebff;}#sk-container-id-10 div.sk-serial::before {content: \"\";position: absolute;border-left: 1px solid gray;box-sizing: border-box;top: 0;bottom: 0;left: 50%;z-index: 0;}#sk-container-id-10 div.sk-serial {display: flex;flex-direction: column;align-items: center;background-color: white;padding-right: 0.2em;padding-left: 0.2em;position: relative;}#sk-container-id-10 div.sk-item {position: relative;z-index: 1;}#sk-container-id-10 div.sk-parallel {display: flex;align-items: stretch;justify-content: center;background-color: white;position: relative;}#sk-container-id-10 div.sk-item::before, #sk-container-id-10 div.sk-parallel-item::before {content: \"\";position: absolute;border-left: 1px solid gray;box-sizing: border-box;top: 0;bottom: 0;left: 50%;z-index: -1;}#sk-container-id-10 div.sk-parallel-item {display: flex;flex-direction: column;z-index: 1;position: relative;background-color: white;}#sk-container-id-10 div.sk-parallel-item:first-child::after {align-self: flex-end;width: 50%;}#sk-container-id-10 div.sk-parallel-item:last-child::after {align-self: flex-start;width: 50%;}#sk-container-id-10 div.sk-parallel-item:only-child::after {width: 0;}#sk-container-id-10 div.sk-dashed-wrapped {border: 1px dashed gray;margin: 0 0.4em 0.5em 0.4em;box-sizing: border-box;padding-bottom: 0.4em;background-color: white;}#sk-container-id-10 div.sk-label label {font-family: monospace;font-weight: bold;display: inline-block;line-height: 1.2em;}#sk-container-id-10 div.sk-label-container {text-align: center;}#sk-container-id-10 div.sk-container {/* jupyter's `normalize.less` sets `[hidden] { display: none; }` but bootstrap.min.css set `[hidden] { display: none !important; }` so we also need the `!important` here to be able to override the default hidden behavior on the sphinx rendered scikit-learn.org. See: https://github.com/scikit-learn/scikit-learn/issues/21755 */display: inline-block !important;position: relative;}#sk-container-id-10 div.sk-text-repr-fallback {display: none;}</style><div id=\"sk-container-id-10\" class=\"sk-top-container\"><div class=\"sk-text-repr-fallback\"><pre>RandomForestRegressor()</pre><b>In a Jupyter environment, please rerun this cell to show the HTML representation or trust the notebook. <br />On GitHub, the HTML representation is unable to render, please try loading this page with nbviewer.org.</b></div><div class=\"sk-container\" hidden><div class=\"sk-item\"><div class=\"sk-estimator sk-toggleable\"><input class=\"sk-toggleable__control sk-hidden--visually\" id=\"sk-estimator-id-10\" type=\"checkbox\" checked><label for=\"sk-estimator-id-10\" class=\"sk-toggleable__label sk-toggleable__label-arrow\">RandomForestRegressor</label><div class=\"sk-toggleable__content\"><pre>RandomForestRegressor()</pre></div></div></div></div></div>"
      ],
      "text/plain": [
       "RandomForestRegressor()"
      ]
     },
     "execution_count": 74,
     "metadata": {},
     "output_type": "execute_result"
    }
   ],
   "source": [
    "model_regression(RandomForestRegressor) # takes like 7 minutes "
   ]
  },
  {
   "cell_type": "code",
   "execution_count": 75,
   "id": "71e03777-2f71-4cd0-94e6-a3f8924ec929",
   "metadata": {
    "tags": []
   },
   "outputs": [
    {
     "name": "stdout",
     "output_type": "stream",
     "text": [
      "Root Mean Squared Error: 3.4848043142503586\n",
      "R-Squared: 0.37124104726240903\n"
     ]
    },
    {
     "data": {
      "text/html": [
       "<style>#sk-container-id-11 {color: black;}#sk-container-id-11 pre{padding: 0;}#sk-container-id-11 div.sk-toggleable {background-color: white;}#sk-container-id-11 label.sk-toggleable__label {cursor: pointer;display: block;width: 100%;margin-bottom: 0;padding: 0.3em;box-sizing: border-box;text-align: center;}#sk-container-id-11 label.sk-toggleable__label-arrow:before {content: \"▸\";float: left;margin-right: 0.25em;color: #696969;}#sk-container-id-11 label.sk-toggleable__label-arrow:hover:before {color: black;}#sk-container-id-11 div.sk-estimator:hover label.sk-toggleable__label-arrow:before {color: black;}#sk-container-id-11 div.sk-toggleable__content {max-height: 0;max-width: 0;overflow: hidden;text-align: left;background-color: #f0f8ff;}#sk-container-id-11 div.sk-toggleable__content pre {margin: 0.2em;color: black;border-radius: 0.25em;background-color: #f0f8ff;}#sk-container-id-11 input.sk-toggleable__control:checked~div.sk-toggleable__content {max-height: 200px;max-width: 100%;overflow: auto;}#sk-container-id-11 input.sk-toggleable__control:checked~label.sk-toggleable__label-arrow:before {content: \"▾\";}#sk-container-id-11 div.sk-estimator input.sk-toggleable__control:checked~label.sk-toggleable__label {background-color: #d4ebff;}#sk-container-id-11 div.sk-label input.sk-toggleable__control:checked~label.sk-toggleable__label {background-color: #d4ebff;}#sk-container-id-11 input.sk-hidden--visually {border: 0;clip: rect(1px 1px 1px 1px);clip: rect(1px, 1px, 1px, 1px);height: 1px;margin: -1px;overflow: hidden;padding: 0;position: absolute;width: 1px;}#sk-container-id-11 div.sk-estimator {font-family: monospace;background-color: #f0f8ff;border: 1px dotted black;border-radius: 0.25em;box-sizing: border-box;margin-bottom: 0.5em;}#sk-container-id-11 div.sk-estimator:hover {background-color: #d4ebff;}#sk-container-id-11 div.sk-parallel-item::after {content: \"\";width: 100%;border-bottom: 1px solid gray;flex-grow: 1;}#sk-container-id-11 div.sk-label:hover label.sk-toggleable__label {background-color: #d4ebff;}#sk-container-id-11 div.sk-serial::before {content: \"\";position: absolute;border-left: 1px solid gray;box-sizing: border-box;top: 0;bottom: 0;left: 50%;z-index: 0;}#sk-container-id-11 div.sk-serial {display: flex;flex-direction: column;align-items: center;background-color: white;padding-right: 0.2em;padding-left: 0.2em;position: relative;}#sk-container-id-11 div.sk-item {position: relative;z-index: 1;}#sk-container-id-11 div.sk-parallel {display: flex;align-items: stretch;justify-content: center;background-color: white;position: relative;}#sk-container-id-11 div.sk-item::before, #sk-container-id-11 div.sk-parallel-item::before {content: \"\";position: absolute;border-left: 1px solid gray;box-sizing: border-box;top: 0;bottom: 0;left: 50%;z-index: -1;}#sk-container-id-11 div.sk-parallel-item {display: flex;flex-direction: column;z-index: 1;position: relative;background-color: white;}#sk-container-id-11 div.sk-parallel-item:first-child::after {align-self: flex-end;width: 50%;}#sk-container-id-11 div.sk-parallel-item:last-child::after {align-self: flex-start;width: 50%;}#sk-container-id-11 div.sk-parallel-item:only-child::after {width: 0;}#sk-container-id-11 div.sk-dashed-wrapped {border: 1px dashed gray;margin: 0 0.4em 0.5em 0.4em;box-sizing: border-box;padding-bottom: 0.4em;background-color: white;}#sk-container-id-11 div.sk-label label {font-family: monospace;font-weight: bold;display: inline-block;line-height: 1.2em;}#sk-container-id-11 div.sk-label-container {text-align: center;}#sk-container-id-11 div.sk-container {/* jupyter's `normalize.less` sets `[hidden] { display: none; }` but bootstrap.min.css set `[hidden] { display: none !important; }` so we also need the `!important` here to be able to override the default hidden behavior on the sphinx rendered scikit-learn.org. See: https://github.com/scikit-learn/scikit-learn/issues/21755 */display: inline-block !important;position: relative;}#sk-container-id-11 div.sk-text-repr-fallback {display: none;}</style><div id=\"sk-container-id-11\" class=\"sk-top-container\"><div class=\"sk-text-repr-fallback\"><pre>ElasticNet()</pre><b>In a Jupyter environment, please rerun this cell to show the HTML representation or trust the notebook. <br />On GitHub, the HTML representation is unable to render, please try loading this page with nbviewer.org.</b></div><div class=\"sk-container\" hidden><div class=\"sk-item\"><div class=\"sk-estimator sk-toggleable\"><input class=\"sk-toggleable__control sk-hidden--visually\" id=\"sk-estimator-id-11\" type=\"checkbox\" checked><label for=\"sk-estimator-id-11\" class=\"sk-toggleable__label sk-toggleable__label-arrow\">ElasticNet</label><div class=\"sk-toggleable__content\"><pre>ElasticNet()</pre></div></div></div></div></div>"
      ],
      "text/plain": [
       "ElasticNet()"
      ]
     },
     "execution_count": 75,
     "metadata": {},
     "output_type": "execute_result"
    }
   ],
   "source": [
    "model_regression(ElasticNet)"
   ]
  },
  {
   "cell_type": "code",
   "execution_count": 76,
   "id": "926bb4b4-c1ef-4539-ad3f-dc3c7c05e633",
   "metadata": {},
   "outputs": [
    {
     "name": "stdout",
     "output_type": "stream",
     "text": [
      "Root Mean Squared Error: 1.3071761096841181\n",
      "R-Squared: 0.9115300881837048\n"
     ]
    },
    {
     "data": {
      "text/html": [
       "<style>#sk-container-id-12 {color: black;}#sk-container-id-12 pre{padding: 0;}#sk-container-id-12 div.sk-toggleable {background-color: white;}#sk-container-id-12 label.sk-toggleable__label {cursor: pointer;display: block;width: 100%;margin-bottom: 0;padding: 0.3em;box-sizing: border-box;text-align: center;}#sk-container-id-12 label.sk-toggleable__label-arrow:before {content: \"▸\";float: left;margin-right: 0.25em;color: #696969;}#sk-container-id-12 label.sk-toggleable__label-arrow:hover:before {color: black;}#sk-container-id-12 div.sk-estimator:hover label.sk-toggleable__label-arrow:before {color: black;}#sk-container-id-12 div.sk-toggleable__content {max-height: 0;max-width: 0;overflow: hidden;text-align: left;background-color: #f0f8ff;}#sk-container-id-12 div.sk-toggleable__content pre {margin: 0.2em;color: black;border-radius: 0.25em;background-color: #f0f8ff;}#sk-container-id-12 input.sk-toggleable__control:checked~div.sk-toggleable__content {max-height: 200px;max-width: 100%;overflow: auto;}#sk-container-id-12 input.sk-toggleable__control:checked~label.sk-toggleable__label-arrow:before {content: \"▾\";}#sk-container-id-12 div.sk-estimator input.sk-toggleable__control:checked~label.sk-toggleable__label {background-color: #d4ebff;}#sk-container-id-12 div.sk-label input.sk-toggleable__control:checked~label.sk-toggleable__label {background-color: #d4ebff;}#sk-container-id-12 input.sk-hidden--visually {border: 0;clip: rect(1px 1px 1px 1px);clip: rect(1px, 1px, 1px, 1px);height: 1px;margin: -1px;overflow: hidden;padding: 0;position: absolute;width: 1px;}#sk-container-id-12 div.sk-estimator {font-family: monospace;background-color: #f0f8ff;border: 1px dotted black;border-radius: 0.25em;box-sizing: border-box;margin-bottom: 0.5em;}#sk-container-id-12 div.sk-estimator:hover {background-color: #d4ebff;}#sk-container-id-12 div.sk-parallel-item::after {content: \"\";width: 100%;border-bottom: 1px solid gray;flex-grow: 1;}#sk-container-id-12 div.sk-label:hover label.sk-toggleable__label {background-color: #d4ebff;}#sk-container-id-12 div.sk-serial::before {content: \"\";position: absolute;border-left: 1px solid gray;box-sizing: border-box;top: 0;bottom: 0;left: 50%;z-index: 0;}#sk-container-id-12 div.sk-serial {display: flex;flex-direction: column;align-items: center;background-color: white;padding-right: 0.2em;padding-left: 0.2em;position: relative;}#sk-container-id-12 div.sk-item {position: relative;z-index: 1;}#sk-container-id-12 div.sk-parallel {display: flex;align-items: stretch;justify-content: center;background-color: white;position: relative;}#sk-container-id-12 div.sk-item::before, #sk-container-id-12 div.sk-parallel-item::before {content: \"\";position: absolute;border-left: 1px solid gray;box-sizing: border-box;top: 0;bottom: 0;left: 50%;z-index: -1;}#sk-container-id-12 div.sk-parallel-item {display: flex;flex-direction: column;z-index: 1;position: relative;background-color: white;}#sk-container-id-12 div.sk-parallel-item:first-child::after {align-self: flex-end;width: 50%;}#sk-container-id-12 div.sk-parallel-item:last-child::after {align-self: flex-start;width: 50%;}#sk-container-id-12 div.sk-parallel-item:only-child::after {width: 0;}#sk-container-id-12 div.sk-dashed-wrapped {border: 1px dashed gray;margin: 0 0.4em 0.5em 0.4em;box-sizing: border-box;padding-bottom: 0.4em;background-color: white;}#sk-container-id-12 div.sk-label label {font-family: monospace;font-weight: bold;display: inline-block;line-height: 1.2em;}#sk-container-id-12 div.sk-label-container {text-align: center;}#sk-container-id-12 div.sk-container {/* jupyter's `normalize.less` sets `[hidden] { display: none; }` but bootstrap.min.css set `[hidden] { display: none !important; }` so we also need the `!important` here to be able to override the default hidden behavior on the sphinx rendered scikit-learn.org. See: https://github.com/scikit-learn/scikit-learn/issues/21755 */display: inline-block !important;position: relative;}#sk-container-id-12 div.sk-text-repr-fallback {display: none;}</style><div id=\"sk-container-id-12\" class=\"sk-top-container\"><div class=\"sk-text-repr-fallback\"><pre>GradientBoostingRegressor()</pre><b>In a Jupyter environment, please rerun this cell to show the HTML representation or trust the notebook. <br />On GitHub, the HTML representation is unable to render, please try loading this page with nbviewer.org.</b></div><div class=\"sk-container\" hidden><div class=\"sk-item\"><div class=\"sk-estimator sk-toggleable\"><input class=\"sk-toggleable__control sk-hidden--visually\" id=\"sk-estimator-id-12\" type=\"checkbox\" checked><label for=\"sk-estimator-id-12\" class=\"sk-toggleable__label sk-toggleable__label-arrow\">GradientBoostingRegressor</label><div class=\"sk-toggleable__content\"><pre>GradientBoostingRegressor()</pre></div></div></div></div></div>"
      ],
      "text/plain": [
       "GradientBoostingRegressor()"
      ]
     },
     "execution_count": 76,
     "metadata": {},
     "output_type": "execute_result"
    }
   ],
   "source": [
    "model_regression(GradientBoostingRegressor) #takes 4 minutes"
   ]
  },
  {
   "cell_type": "markdown",
   "id": "4fcc216e-a84b-448f-9372-3f4355385325",
   "metadata": {},
   "source": [
    "## Test on Holdout for Testing.csv"
   ]
  },
  {
   "cell_type": "code",
   "execution_count": 51,
   "id": "3601851e-4aba-40ab-87b1-fbc0921059cb",
   "metadata": {
    "tags": []
   },
   "outputs": [
    {
     "data": {
      "text/html": [
       "<div>\n",
       "<style scoped>\n",
       "    .dataframe tbody tr th:only-of-type {\n",
       "        vertical-align: middle;\n",
       "    }\n",
       "\n",
       "    .dataframe tbody tr th {\n",
       "        vertical-align: top;\n",
       "    }\n",
       "\n",
       "    .dataframe thead th {\n",
       "        text-align: right;\n",
       "    }\n",
       "</style>\n",
       "<table border=\"1\" class=\"dataframe\">\n",
       "  <thead>\n",
       "    <tr style=\"text-align: right;\">\n",
       "      <th></th>\n",
       "      <th>X1</th>\n",
       "      <th>X2</th>\n",
       "      <th>X3</th>\n",
       "      <th>X4</th>\n",
       "      <th>X5</th>\n",
       "      <th>X6</th>\n",
       "      <th>X7</th>\n",
       "      <th>X8</th>\n",
       "      <th>X9</th>\n",
       "      <th>X10</th>\n",
       "      <th>...</th>\n",
       "      <th>X23</th>\n",
       "      <th>X24</th>\n",
       "      <th>X25</th>\n",
       "      <th>X26</th>\n",
       "      <th>X27</th>\n",
       "      <th>X28</th>\n",
       "      <th>X29</th>\n",
       "      <th>X30</th>\n",
       "      <th>X31</th>\n",
       "      <th>X32</th>\n",
       "    </tr>\n",
       "  </thead>\n",
       "  <tbody>\n",
       "    <tr>\n",
       "      <th>0</th>\n",
       "      <td>NaN</td>\n",
       "      <td>44409194</td>\n",
       "      <td>47416907</td>\n",
       "      <td>$6,000</td>\n",
       "      <td>$6,000</td>\n",
       "      <td>$6,000</td>\n",
       "      <td>36 months</td>\n",
       "      <td>C</td>\n",
       "      <td>C5</td>\n",
       "      <td>Electrician</td>\n",
       "      <td>...</td>\n",
       "      <td>2-Nov</td>\n",
       "      <td>1</td>\n",
       "      <td>26.0</td>\n",
       "      <td>NaN</td>\n",
       "      <td>18</td>\n",
       "      <td>0</td>\n",
       "      <td>19861</td>\n",
       "      <td>64.50%</td>\n",
       "      <td>33</td>\n",
       "      <td>f</td>\n",
       "    </tr>\n",
       "    <tr>\n",
       "      <th>1</th>\n",
       "      <td>NaN</td>\n",
       "      <td>44017917</td>\n",
       "      <td>47034722</td>\n",
       "      <td>$24,000</td>\n",
       "      <td>$24,000</td>\n",
       "      <td>$24,000</td>\n",
       "      <td>36 months</td>\n",
       "      <td>A</td>\n",
       "      <td>A1</td>\n",
       "      <td>Executive Assistant</td>\n",
       "      <td>...</td>\n",
       "      <td>Dec-68</td>\n",
       "      <td>1</td>\n",
       "      <td>NaN</td>\n",
       "      <td>NaN</td>\n",
       "      <td>12</td>\n",
       "      <td>0</td>\n",
       "      <td>17001</td>\n",
       "      <td>26.20%</td>\n",
       "      <td>36</td>\n",
       "      <td>w</td>\n",
       "    </tr>\n",
       "    <tr>\n",
       "      <th>2</th>\n",
       "      <td>NaN</td>\n",
       "      <td>44259158</td>\n",
       "      <td>47306871</td>\n",
       "      <td>$35,000</td>\n",
       "      <td>$35,000</td>\n",
       "      <td>$35,000</td>\n",
       "      <td>36 months</td>\n",
       "      <td>C</td>\n",
       "      <td>C2</td>\n",
       "      <td>District Sales Leader</td>\n",
       "      <td>...</td>\n",
       "      <td>Oct-98</td>\n",
       "      <td>0</td>\n",
       "      <td>NaN</td>\n",
       "      <td>NaN</td>\n",
       "      <td>16</td>\n",
       "      <td>0</td>\n",
       "      <td>25797</td>\n",
       "      <td>49.90%</td>\n",
       "      <td>33</td>\n",
       "      <td>w</td>\n",
       "    </tr>\n",
       "    <tr>\n",
       "      <th>3</th>\n",
       "      <td>NaN</td>\n",
       "      <td>44429213</td>\n",
       "      <td>47476932</td>\n",
       "      <td>$10,000</td>\n",
       "      <td>$10,000</td>\n",
       "      <td>$10,000</td>\n",
       "      <td>60 months</td>\n",
       "      <td>D</td>\n",
       "      <td>D1</td>\n",
       "      <td>pharmacy associate</td>\n",
       "      <td>...</td>\n",
       "      <td>Feb-99</td>\n",
       "      <td>1</td>\n",
       "      <td>NaN</td>\n",
       "      <td>114.0</td>\n",
       "      <td>13</td>\n",
       "      <td>1</td>\n",
       "      <td>9586</td>\n",
       "      <td>43.80%</td>\n",
       "      <td>21</td>\n",
       "      <td>w</td>\n",
       "    </tr>\n",
       "    <tr>\n",
       "      <th>4</th>\n",
       "      <td>NaN</td>\n",
       "      <td>44299188</td>\n",
       "      <td>47346901</td>\n",
       "      <td>$24,000</td>\n",
       "      <td>$24,000</td>\n",
       "      <td>$24,000</td>\n",
       "      <td>60 months</td>\n",
       "      <td>B</td>\n",
       "      <td>B1</td>\n",
       "      <td>Medical case manager</td>\n",
       "      <td>...</td>\n",
       "      <td>2-Dec</td>\n",
       "      <td>0</td>\n",
       "      <td>48.0</td>\n",
       "      <td>NaN</td>\n",
       "      <td>27</td>\n",
       "      <td>0</td>\n",
       "      <td>31842</td>\n",
       "      <td>41.30%</td>\n",
       "      <td>43</td>\n",
       "      <td>w</td>\n",
       "    </tr>\n",
       "  </tbody>\n",
       "</table>\n",
       "<p>5 rows × 32 columns</p>\n",
       "</div>"
      ],
      "text/plain": [
       "   X1        X2        X3       X4       X5       X6          X7 X8  X9  \\\n",
       "0 NaN  44409194  47416907   $6,000   $6,000   $6,000   36 months  C  C5   \n",
       "1 NaN  44017917  47034722  $24,000  $24,000  $24,000   36 months  A  A1   \n",
       "2 NaN  44259158  47306871  $35,000  $35,000  $35,000   36 months  C  C2   \n",
       "3 NaN  44429213  47476932  $10,000  $10,000  $10,000   60 months  D  D1   \n",
       "4 NaN  44299188  47346901  $24,000  $24,000  $24,000   60 months  B  B1   \n",
       "\n",
       "                     X10  ...     X23 X24   X25    X26 X27 X28    X29     X30  \\\n",
       "0            Electrician  ...   2-Nov   1  26.0    NaN  18   0  19861  64.50%   \n",
       "1    Executive Assistant  ...  Dec-68   1   NaN    NaN  12   0  17001  26.20%   \n",
       "2  District Sales Leader  ...  Oct-98   0   NaN    NaN  16   0  25797  49.90%   \n",
       "3     pharmacy associate  ...  Feb-99   1   NaN  114.0  13   1   9586  43.80%   \n",
       "4   Medical case manager  ...   2-Dec   0  48.0    NaN  27   0  31842  41.30%   \n",
       "\n",
       "  X31 X32  \n",
       "0  33   f  \n",
       "1  36   w  \n",
       "2  33   w  \n",
       "3  21   w  \n",
       "4  43   w  \n",
       "\n",
       "[5 rows x 32 columns]"
      ]
     },
     "execution_count": 51,
     "metadata": {},
     "output_type": "execute_result"
    }
   ],
   "source": [
    "test_df = pd.read_csv('/Users/bianca/Documents/U of Chicago/Classes/Data Mining/Assignment-03-2024/Loan_Prediction/Holdout for Testing.csv')\n",
    "test_df.head()"
   ]
  },
  {
   "cell_type": "code",
   "execution_count": 52,
   "id": "2d333efa-b771-4262-a637-5df332e91b65",
   "metadata": {
    "tags": []
   },
   "outputs": [
    {
     "data": {
      "text/plain": [
       "X1     80000\n",
       "X2         0\n",
       "X3         0\n",
       "X4         0\n",
       "X5         0\n",
       "X6         0\n",
       "X7         0\n",
       "X8         0\n",
       "X9         0\n",
       "X10     4394\n",
       "X11     4382\n",
       "X12        0\n",
       "X13        0\n",
       "X14        0\n",
       "X15        0\n",
       "X16    79985\n",
       "X17        0\n",
       "X18        0\n",
       "X19        0\n",
       "X20        0\n",
       "X21        0\n",
       "X22        0\n",
       "X23        0\n",
       "X24        0\n",
       "X25    38704\n",
       "X26    66161\n",
       "X27        0\n",
       "X28        0\n",
       "X29        0\n",
       "X30       30\n",
       "X31        0\n",
       "X32        0\n",
       "dtype: int64"
      ]
     },
     "execution_count": 52,
     "metadata": {},
     "output_type": "execute_result"
    }
   ],
   "source": [
    "null_counts = test_df.isnull().sum()\n",
    "null_counts"
   ]
  },
  {
   "cell_type": "markdown",
   "id": "6a55f822-94d2-42d9-9d41-709649bcc28f",
   "metadata": {},
   "source": [
    "### Handle missing values test file exactly like the training file"
   ]
  },
  {
   "cell_type": "code",
   "execution_count": 53,
   "id": "22bfa948-71f3-4e4a-8563-7516ad69143d",
   "metadata": {
    "tags": []
   },
   "outputs": [],
   "source": [
    "test_df = test_df.drop(['X10', 'X17', 'X18', 'X19', 'X25','X26','X16'], axis=1)"
   ]
  },
  {
   "cell_type": "code",
   "execution_count": 54,
   "id": "7da20bcc-019f-49aa-9579-a38a08acf8fe",
   "metadata": {
    "tags": []
   },
   "outputs": [],
   "source": [
    "test_df['X11'] = test_df['X11'].str.replace(' years?', '', regex=True)\n",
    "test_df['X11'] = test_df['X11'].replace({'< 1': 0, '<1': 0, '< 1 ': 0}, regex=True)\n",
    "test_df['X11'] = test_df['X11'].replace('\\+', '', regex=True)\n",
    "test_df['X11'] = test_df['X11'].astype(float)\n",
    "test_df['X11'] = label_encoder.fit_transform(test_df['X11'])\n",
    "test_df['X11'] = test_df['X11'].astype(float)\n",
    "\n",
    "median_value = test_df['X11'].median()\n",
    "\n",
    "test_df['X11'].fillna(median_value, inplace=True)"
   ]
  },
  {
   "cell_type": "code",
   "execution_count": 55,
   "id": "4d3c4813-29b9-4fe5-b5db-3f5e90c6b1b0",
   "metadata": {
    "tags": []
   },
   "outputs": [],
   "source": [
    "test_df['X30'] = test_df['X30'].replace('%', '', regex=True)\n",
    "test_df['X30'] = test_df['X30'].astype(float)\n",
    "mean_value = test_df['X30'].mean()\n",
    "\n",
    "test_df['X30'].fillna(mean_value, inplace=True)"
   ]
  },
  {
   "cell_type": "markdown",
   "id": "655103f3-66bc-4efb-b1db-6bbc773c6534",
   "metadata": {},
   "source": [
    "### Format all columns to float type"
   ]
  },
  {
   "cell_type": "code",
   "execution_count": 56,
   "id": "9412529f-1ff1-4d4b-8119-9cff817bf3b0",
   "metadata": {
    "tags": []
   },
   "outputs": [],
   "source": [
    "test_df['X8'] = label_encoder.fit_transform(test_df['X8'])\n",
    "test_df['X8'] = test_df['X8'].astype(float)\n",
    "\n",
    "test_df['X9'] = label_encoder.fit_transform(test_df['X9'])\n",
    "test_df['X9'] = test_df['X9'].astype(float)\n",
    "\n",
    "test_df['X12'] = label_encoder.fit_transform(test_df['X12'])\n",
    "test_df['X12'] = test_df['X12'].astype(float)"
   ]
  },
  {
   "cell_type": "code",
   "execution_count": 57,
   "id": "2a036a32-fcb3-4914-9c48-1e05fde37c60",
   "metadata": {
    "tags": []
   },
   "outputs": [
    {
     "name": "stderr",
     "output_type": "stream",
     "text": [
      "/var/folders/04/yllkntj5677_mvn3c6nn113r0000gn/T/ipykernel_46740/1058703848.py:1: FutureWarning: The default value of regex will change from True to False in a future version. In addition, single character regular expressions will *not* be treated as literal strings when regex=True.\n",
      "  test_df['X4'] = test_df['X4'].str.replace('$', '').astype(str).str.replace(',', '').astype(float)\n",
      "/var/folders/04/yllkntj5677_mvn3c6nn113r0000gn/T/ipykernel_46740/1058703848.py:2: FutureWarning: The default value of regex will change from True to False in a future version. In addition, single character regular expressions will *not* be treated as literal strings when regex=True.\n",
      "  test_df['X5'] = test_df['X5'].str.replace('$', '').astype(str).str.replace(',', '').astype(float)\n",
      "/var/folders/04/yllkntj5677_mvn3c6nn113r0000gn/T/ipykernel_46740/1058703848.py:3: FutureWarning: The default value of regex will change from True to False in a future version. In addition, single character regular expressions will *not* be treated as literal strings when regex=True.\n",
      "  test_df['X6'] = test_df['X6'].str.replace('$', '').astype(str).str.replace(',', '').astype(float)\n"
     ]
    }
   ],
   "source": [
    "test_df['X4'] = test_df['X4'].str.replace('$', '').astype(str).str.replace(',', '').astype(float)\n",
    "test_df['X5'] = test_df['X5'].str.replace('$', '').astype(str).str.replace(',', '').astype(float)\n",
    "test_df['X6'] = test_df['X6'].str.replace('$', '').astype(str).str.replace(',', '').astype(float)"
   ]
  },
  {
   "cell_type": "code",
   "execution_count": 58,
   "id": "fd878836-308b-41b6-af6f-5f6cb3a7e250",
   "metadata": {
    "tags": []
   },
   "outputs": [],
   "source": [
    "test_df['X7'] = test_df['X7'].replace(' months', '', regex=True)\n",
    "\n",
    "label_encoder = LabelEncoder()\n",
    "test_df['X7'] = label_encoder.fit_transform(test_df['X7'])\n",
    "test_df['X7'] = test_df['X7'].astype(float)\n",
    "\n",
    "\n",
    "test_df['X14'] = label_encoder.fit_transform(test_df['X14'])\n",
    "test_df['X14'] = test_df['X14'].astype(float)\n",
    "\n",
    "test_df['X20'] = label_encoder.fit_transform(test_df['X20'])\n",
    "test_df['X20'] = test_df['X20'].astype(float)\n",
    "test_df['X32'] = label_encoder.fit_transform(test_df['X32'])\n",
    "test_df['X32'] = test_df['X32'].astype(float)"
   ]
  },
  {
   "cell_type": "code",
   "execution_count": 59,
   "id": "41e6da14-3a7d-4777-a612-6ca5c2cb75d5",
   "metadata": {
    "tags": []
   },
   "outputs": [],
   "source": [
    "import re\n",
    "\n",
    "number_pattern = r'\\d+'\n",
    "\n",
    "def extract_number(date_str):\n",
    "    numbers = re.findall(number_pattern, date_str)\n",
    "    return int(numbers[0]) if numbers else None\n",
    "\n",
    "test_df['X15'] = test_df['X15'].apply(extract_number)\n",
    "\n",
    "test_df['X23'] = test_df['X23'].apply(extract_number)"
   ]
  },
  {
   "cell_type": "code",
   "execution_count": 60,
   "id": "75c076ee-1d3d-4e02-b3e9-64de01758482",
   "metadata": {
    "tags": []
   },
   "outputs": [
    {
     "data": {
      "text/html": [
       "<div>\n",
       "<style scoped>\n",
       "    .dataframe tbody tr th:only-of-type {\n",
       "        vertical-align: middle;\n",
       "    }\n",
       "\n",
       "    .dataframe tbody tr th {\n",
       "        vertical-align: top;\n",
       "    }\n",
       "\n",
       "    .dataframe thead th {\n",
       "        text-align: right;\n",
       "    }\n",
       "</style>\n",
       "<table border=\"1\" class=\"dataframe\">\n",
       "  <thead>\n",
       "    <tr style=\"text-align: right;\">\n",
       "      <th></th>\n",
       "      <th>X1</th>\n",
       "      <th>X2</th>\n",
       "      <th>X3</th>\n",
       "      <th>X4</th>\n",
       "      <th>X5</th>\n",
       "      <th>X6</th>\n",
       "      <th>X7</th>\n",
       "      <th>X8</th>\n",
       "      <th>X9</th>\n",
       "      <th>X11</th>\n",
       "      <th>...</th>\n",
       "      <th>X21</th>\n",
       "      <th>X22</th>\n",
       "      <th>X23</th>\n",
       "      <th>X24</th>\n",
       "      <th>X27</th>\n",
       "      <th>X28</th>\n",
       "      <th>X29</th>\n",
       "      <th>X30</th>\n",
       "      <th>X31</th>\n",
       "      <th>X32</th>\n",
       "    </tr>\n",
       "  </thead>\n",
       "  <tbody>\n",
       "    <tr>\n",
       "      <th>0</th>\n",
       "      <td>NaN</td>\n",
       "      <td>44409194</td>\n",
       "      <td>47416907</td>\n",
       "      <td>6000.0</td>\n",
       "      <td>6000.0</td>\n",
       "      <td>6000.0</td>\n",
       "      <td>0.0</td>\n",
       "      <td>2.0</td>\n",
       "      <td>14.0</td>\n",
       "      <td>10.0</td>\n",
       "      <td>...</td>\n",
       "      <td>28.31</td>\n",
       "      <td>0</td>\n",
       "      <td>2</td>\n",
       "      <td>1</td>\n",
       "      <td>18</td>\n",
       "      <td>0</td>\n",
       "      <td>19861</td>\n",
       "      <td>64.5</td>\n",
       "      <td>33</td>\n",
       "      <td>0.0</td>\n",
       "    </tr>\n",
       "    <tr>\n",
       "      <th>1</th>\n",
       "      <td>NaN</td>\n",
       "      <td>44017917</td>\n",
       "      <td>47034722</td>\n",
       "      <td>24000.0</td>\n",
       "      <td>24000.0</td>\n",
       "      <td>24000.0</td>\n",
       "      <td>0.0</td>\n",
       "      <td>0.0</td>\n",
       "      <td>0.0</td>\n",
       "      <td>8.0</td>\n",
       "      <td>...</td>\n",
       "      <td>16.03</td>\n",
       "      <td>0</td>\n",
       "      <td>68</td>\n",
       "      <td>1</td>\n",
       "      <td>12</td>\n",
       "      <td>0</td>\n",
       "      <td>17001</td>\n",
       "      <td>26.2</td>\n",
       "      <td>36</td>\n",
       "      <td>1.0</td>\n",
       "    </tr>\n",
       "    <tr>\n",
       "      <th>2</th>\n",
       "      <td>NaN</td>\n",
       "      <td>44259158</td>\n",
       "      <td>47306871</td>\n",
       "      <td>35000.0</td>\n",
       "      <td>35000.0</td>\n",
       "      <td>35000.0</td>\n",
       "      <td>0.0</td>\n",
       "      <td>2.0</td>\n",
       "      <td>11.0</td>\n",
       "      <td>10.0</td>\n",
       "      <td>...</td>\n",
       "      <td>32.49</td>\n",
       "      <td>0</td>\n",
       "      <td>98</td>\n",
       "      <td>0</td>\n",
       "      <td>16</td>\n",
       "      <td>0</td>\n",
       "      <td>25797</td>\n",
       "      <td>49.9</td>\n",
       "      <td>33</td>\n",
       "      <td>1.0</td>\n",
       "    </tr>\n",
       "    <tr>\n",
       "      <th>3</th>\n",
       "      <td>NaN</td>\n",
       "      <td>44429213</td>\n",
       "      <td>47476932</td>\n",
       "      <td>10000.0</td>\n",
       "      <td>10000.0</td>\n",
       "      <td>10000.0</td>\n",
       "      <td>1.0</td>\n",
       "      <td>3.0</td>\n",
       "      <td>15.0</td>\n",
       "      <td>10.0</td>\n",
       "      <td>...</td>\n",
       "      <td>32.96</td>\n",
       "      <td>0</td>\n",
       "      <td>99</td>\n",
       "      <td>1</td>\n",
       "      <td>13</td>\n",
       "      <td>1</td>\n",
       "      <td>9586</td>\n",
       "      <td>43.8</td>\n",
       "      <td>21</td>\n",
       "      <td>1.0</td>\n",
       "    </tr>\n",
       "    <tr>\n",
       "      <th>4</th>\n",
       "      <td>NaN</td>\n",
       "      <td>44299188</td>\n",
       "      <td>47346901</td>\n",
       "      <td>24000.0</td>\n",
       "      <td>24000.0</td>\n",
       "      <td>24000.0</td>\n",
       "      <td>1.0</td>\n",
       "      <td>1.0</td>\n",
       "      <td>5.0</td>\n",
       "      <td>10.0</td>\n",
       "      <td>...</td>\n",
       "      <td>31.03</td>\n",
       "      <td>0</td>\n",
       "      <td>2</td>\n",
       "      <td>0</td>\n",
       "      <td>27</td>\n",
       "      <td>0</td>\n",
       "      <td>31842</td>\n",
       "      <td>41.3</td>\n",
       "      <td>43</td>\n",
       "      <td>1.0</td>\n",
       "    </tr>\n",
       "  </tbody>\n",
       "</table>\n",
       "<p>5 rows × 25 columns</p>\n",
       "</div>"
      ],
      "text/plain": [
       "   X1        X2        X3       X4       X5       X6   X7   X8    X9   X11  \\\n",
       "0 NaN  44409194  47416907   6000.0   6000.0   6000.0  0.0  2.0  14.0  10.0   \n",
       "1 NaN  44017917  47034722  24000.0  24000.0  24000.0  0.0  0.0   0.0   8.0   \n",
       "2 NaN  44259158  47306871  35000.0  35000.0  35000.0  0.0  2.0  11.0  10.0   \n",
       "3 NaN  44429213  47476932  10000.0  10000.0  10000.0  1.0  3.0  15.0  10.0   \n",
       "4 NaN  44299188  47346901  24000.0  24000.0  24000.0  1.0  1.0   5.0  10.0   \n",
       "\n",
       "   ...    X21  X22  X23  X24  X27  X28    X29   X30  X31  X32  \n",
       "0  ...  28.31    0    2    1   18    0  19861  64.5   33  0.0  \n",
       "1  ...  16.03    0   68    1   12    0  17001  26.2   36  1.0  \n",
       "2  ...  32.49    0   98    0   16    0  25797  49.9   33  1.0  \n",
       "3  ...  32.96    0   99    1   13    1   9586  43.8   21  1.0  \n",
       "4  ...  31.03    0    2    0   27    0  31842  41.3   43  1.0  \n",
       "\n",
       "[5 rows x 25 columns]"
      ]
     },
     "execution_count": 60,
     "metadata": {},
     "output_type": "execute_result"
    }
   ],
   "source": [
    "test_df.head()"
   ]
  },
  {
   "cell_type": "code",
   "execution_count": 61,
   "id": "72da1eee-75f8-4515-a80a-a2465cfab5ab",
   "metadata": {
    "tags": []
   },
   "outputs": [],
   "source": [
    "X_test = test_df.drop(['X1'], axis = 1)"
   ]
  },
  {
   "cell_type": "code",
   "execution_count": 62,
   "id": "ea134df3-f683-4b91-ba3b-7d6c70535f47",
   "metadata": {
    "tags": []
   },
   "outputs": [
    {
     "name": "stderr",
     "output_type": "stream",
     "text": [
      "/Users/bianca/anaconda3/lib/python3.11/site-packages/sklearn/base.py:457: UserWarning: X has feature names, but RandomForestRegressor was fitted without feature names\n",
      "  warnings.warn(\n"
     ]
    }
   ],
   "source": [
    "# takes a while\n",
    "regressor = RandomForestRegressor()\n",
    "regressor.fit(train_X, train_y)\n",
    "predictions = regressor.predict(X_test)"
   ]
  },
  {
   "cell_type": "code",
   "execution_count": 63,
   "id": "e71e53e7-217c-4e12-8160-8a1972db124e",
   "metadata": {
    "tags": []
   },
   "outputs": [
    {
     "name": "stdout",
     "output_type": "stream",
     "text": [
      "X9: 0.7573442090600965\n",
      "X8: 0.05890628703288483\n",
      "X2: 0.03504218641678771\n",
      "X7: 0.0316584374435841\n",
      "X30: 0.022831092228136764\n",
      "X29: 0.011742156858202964\n",
      "X24: 0.008990127538871217\n",
      "X3: 0.008861071240942663\n",
      "X13: 0.008102697589204358\n",
      "X21: 0.007942066001682558\n",
      "X23: 0.0063234111505947556\n",
      "X31: 0.006120103597991617\n",
      "X27: 0.005958906514710205\n",
      "X20: 0.004706611827661874\n",
      "X6: 0.004409178674274308\n",
      "X5: 0.003499567039765128\n",
      "X4: 0.0034246802618544668\n",
      "X11: 0.0033274169515271025\n",
      "X22: 0.0026570541543343255\n",
      "X28: 0.0023118658186147573\n",
      "X14: 0.0019286863573566313\n",
      "X12: 0.0018412441810475497\n",
      "X15: 0.0012737830882005212\n",
      "X32: 0.0007971589716730712\n"
     ]
    }
   ],
   "source": [
    "feature_importances = regressor.feature_importances_\n",
    "sorted_indices = np.argsort(feature_importances)[::-1]\n",
    "\n",
    "# Print feature importance\n",
    "for i in sorted_indices:\n",
    "    print(f\"{X_test.columns[i]}: {feature_importances[i]}\")"
   ]
  },
  {
   "cell_type": "code",
   "execution_count": 65,
   "id": "fdfac032-ba88-4333-bb42-5ec67b63f6bb",
   "metadata": {
    "tags": []
   },
   "outputs": [],
   "source": [
    "da = pd.DataFrame(predictions)\n",
    "da.to_csv(\"Results from Bianca Gunawan.csv\", index=False)"
   ]
  },
  {
   "cell_type": "markdown",
   "id": "e746c83e-0989-4b8c-823e-c4f928d3a16c",
   "metadata": {},
   "source": [
    "### Comparison of models\n",
    "Random Forest Regressor has the lowest RMSE and best R-squared value, meaning that it's the most accurate model. However, it does take a while to run. In this case, the runtime of 7 minutes is acceptable if accuracy is prioritized. However, if speed is a priority, then Gradient Boosting would be chosen as the model with less runtime and 2nd best accuracy. The rest of the model were faster than both Random Forest and Gradient Boosting, but their accuracy was far lower."
   ]
  }
 ],
 "metadata": {
  "kernelspec": {
   "display_name": "Python 3 (ipykernel)",
   "language": "python",
   "name": "python3"
  },
  "language_info": {
   "codemirror_mode": {
    "name": "ipython",
    "version": 3
   },
   "file_extension": ".py",
   "mimetype": "text/x-python",
   "name": "python",
   "nbconvert_exporter": "python",
   "pygments_lexer": "ipython3",
   "version": "3.11.4"
  }
 },
 "nbformat": 4,
 "nbformat_minor": 5
}
